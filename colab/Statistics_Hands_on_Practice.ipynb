{
  "nbformat": 4,
  "nbformat_minor": 0,
  "metadata": {
    "colab": {
      "provenance": [],
      "include_colab_link": true
    },
    "kernelspec": {
      "name": "python3",
      "display_name": "Python 3"
    }
  },
  "cells": [
    {
      "cell_type": "markdown",
      "metadata": {
        "id": "view-in-github",
        "colab_type": "text"
      },
      "source": [
        "<a href=\"https://colab.research.google.com/github/mkdelavina/Data-Analytics-Portfolio/blob/main/colab/Statistics_Hands_on_Practice.ipynb\" target=\"_parent\"><img src=\"https://colab.research.google.com/assets/colab-badge.svg\" alt=\"Open In Colab\"/></a>"
      ]
    },
    {
      "cell_type": "markdown",
      "metadata": {
        "id": "zfY7LFjFlcZv"
      },
      "source": [
        "# Python Session #3: Data Summary / Statistics"
      ]
    },
    {
      "cell_type": "markdown",
      "source": [
        "\n",
        "## Lecture Structure:\n",
        "\n",
        "1. Measure of central tendency\n",
        "\n",
        "- Mean\n",
        "- Median\n",
        "- Mode\n",
        "\n",
        "2. Measure of spread\n",
        "\n",
        "- Range\n",
        "- Standard Deviation\n",
        "\n",
        "3. Correlation coeffcient\n",
        "\n",
        "## We will use:\n",
        "- `statistics.mean()`,\n",
        "`statistics.median()`,\n",
        "`statistics.mode()`,\n",
        "`groupby.mean()`,\n",
        "`groupby.median()`,\n",
        "`statistics.stdev()`,\n",
        "`corr()`\n",
        "\n",
        "**NOTE:** Answers to the questions discussed in this notebook will be available in the Google Classroom as part of Lesson 3 - Data Summary/Statistics"
      ],
      "metadata": {
        "id": "0_FNYSHmkCkK"
      }
    },
    {
      "cell_type": "markdown",
      "source": [
        "# **1**. **Measure of central tendency**"
      ],
      "metadata": {
        "id": "2FcX_M3YHjz6"
      }
    },
    {
      "cell_type": "markdown",
      "metadata": {
        "id": "R2rbeR95mSqz"
      },
      "source": [
        "\n",
        "*  Mean - the average of group of numbers\n",
        "\n",
        "*  Median - the middle number in a set of ordered dataset\n",
        "\n",
        "*  Mode - the number that appears most frequently in a dataset\n",
        "\n"
      ]
    },
    {
      "cell_type": "code",
      "metadata": {
        "id": "jYijDuuObu_5"
      },
      "source": [
        "### Importing libraries and packages\n",
        "import pandas as pd\n",
        "import numpy as np\n",
        "import statistics as st\n",
        "import seaborn as sns\n",
        "import matplotlib.pyplot as plt\n",
        "from scipy.stats import gmean"
      ],
      "execution_count": null,
      "outputs": []
    },
    {
      "cell_type": "code",
      "metadata": {
        "id": "mrtbg_VhjZcy"
      },
      "source": [
        "### Reading data\n",
        "\n",
        "cars = pd.read_csv(\"https://raw.githubusercontent.com/juliandnl/redi_ss20/master/cars.csv\")  # cars dataset"
      ],
      "execution_count": null,
      "outputs": []
    },
    {
      "cell_type": "markdown",
      "source": [
        "## **Question #1 : Choose the best measure to describe the below plot**"
      ],
      "metadata": {
        "id": "6cbPsV5KVbC_"
      }
    },
    {
      "cell_type": "markdown",
      "source": [
        "We are working with a dataframe containning the number of miles each of the 17 members of the cross-country team ran in a week. The number of miles is shown on the x-axis.\n",
        "\n",
        "**Which measure of central tendency best describes this data? Justify your answer.**\n"
      ],
      "metadata": {
        "id": "F_dttyWL4CQv"
      }
    },
    {
      "cell_type": "code",
      "source": [
        "###Plot the dataframe (e. g. using hist())\n",
        "week_miles = [4, 4, 4, 4, 4, 5, 5, 5, 6, 6, 7, 7, 9, 10, 10, 11, 30]\n",
        "week_miles_df = pd.DataFrame(week_miles)"
      ],
      "metadata": {
        "id": "XnGZ4oGB6hpO"
      },
      "execution_count": null,
      "outputs": []
    },
    {
      "cell_type": "code",
      "source": [
        "week_miles_df.hist(bins=20)"
      ],
      "metadata": {
        "id": "UYDS44PAy4TT",
        "colab": {
          "base_uri": "https://localhost:8080/",
          "height": 469
        },
        "outputId": "37065edc-8f77-44cf-8d0f-4a1c8b68d40b"
      },
      "execution_count": null,
      "outputs": [
        {
          "output_type": "execute_result",
          "data": {
            "text/plain": [
              "array([[<Axes: title={'center': '0'}>]], dtype=object)"
            ]
          },
          "metadata": {},
          "execution_count": 4
        },
        {
          "output_type": "display_data",
          "data": {
            "text/plain": [
              "<Figure size 640x480 with 1 Axes>"
            ],
            "image/png": "[encoded data removed]"
          },
          "metadata": {}
        }
      ]
    },
    {
      "cell_type": "code",
      "source": [
        "### Calculating the measures of central tendency via st.mean, st.mode, and st.median.\n",
        "### We can use these functions directly on the list\n",
        "print(f\"The mean is: {st.mean(week_miles)}\")\n",
        "print(f\"The median is: {st.median(week_miles)}\")\n",
        "print(f\"The mode is: {st.mode(week_miles)}\")\n"
      ],
      "metadata": {
        "id": "Js5GOvPT2Tih",
        "colab": {
          "base_uri": "https://localhost:8080/"
        },
        "outputId": "cc60790d-63c0-4bb5-aa79-8012786d9de2"
      },
      "execution_count": null,
      "outputs": [
        {
          "output_type": "stream",
          "name": "stdout",
          "text": [
            "The mean is: 7.705882352941177\n",
            "The median is: 6\n",
            "The mode is: 4\n"
          ]
        }
      ]
    },
    {
      "cell_type": "code",
      "source": [
        "### Calculating the measures of central tendency via .mean(), .median(), and .mode()\n",
        "### We have to first convert the list to a dataframe\n",
        "print(f\"The mean is: {week_miles_df.mean().values[0]}\")\n",
        "print(f\"The median is: {week_miles_df.median().values[0]}\")\n",
        "print(f\"The mode is: {week_miles_df.mode().values[0]}\")"
      ],
      "metadata": {
        "id": "d901q95f3Zc9",
        "colab": {
          "base_uri": "https://localhost:8080/"
        },
        "outputId": "d1c80561-22c5-4453-cb1c-39b2b9c4779d"
      },
      "execution_count": null,
      "outputs": [
        {
          "output_type": "stream",
          "name": "stdout",
          "text": [
            "The mean is: 7.705882352941177\n",
            "The median is: 6.0\n",
            "The mode is: [4]\n"
          ]
        }
      ]
    },
    {
      "cell_type": "markdown",
      "source": [
        "**Conclusion for Question #1 :**"
      ],
      "metadata": {
        "id": "3jjFsCIu61S6"
      }
    },
    {
      "cell_type": "markdown",
      "source": [
        "Median best describes this data set due to the outlier value of 30 increases the mean drastically.\n"
      ],
      "metadata": {
        "id": "VKjkZlvrU4mg"
      }
    },
    {
      "cell_type": "markdown",
      "source": [],
      "metadata": {
        "id": "XdUv62X50Mhd"
      }
    },
    {
      "cell_type": "markdown",
      "source": [
        "## **Question #2 : Choose the best measure to describe the below plot**"
      ],
      "metadata": {
        "id": "HYj0jBSRYSCG"
      }
    },
    {
      "cell_type": "markdown",
      "source": [
        "We are working with a dataset that contains the funds raised by each of the 10 members of the cheerleading team for a local charity (in dollars)."
      ],
      "metadata": {
        "id": "i0PGXquo7Fp5"
      }
    },
    {
      "cell_type": "code",
      "source": [
        "###Turn the list below into a dataframe first using pd.DataFrame()\n",
        "###Plot the dataframe using hist()\n",
        "\n",
        "dollars_raised = [8, 10, 10, 12, 12, 12, 13, 13, 15, 20]\n",
        "df_dollars = pd.DataFrame(dollars_raised)\n",
        "df_dollars.hist()"
      ],
      "metadata": {
        "id": "vBxAHnY68LBE",
        "colab": {
          "base_uri": "https://localhost:8080/",
          "height": 469
        },
        "outputId": "d2c56d4a-7f23-445a-ce46-033c414f3ce9"
      },
      "execution_count": null,
      "outputs": [
        {
          "output_type": "execute_result",
          "data": {
            "text/plain": [
              "array([[<Axes: title={'center': '0'}>]], dtype=object)"
            ]
          },
          "metadata": {},
          "execution_count": 10
        },
        {
          "output_type": "display_data",
          "data": {
            "text/plain": [
              "<Figure size 640x480 with 1 Axes>"
            ],
            "image/png": "[encoded data removed]"
          },
          "metadata": {}
        }
      ]
    },
    {
      "cell_type": "code",
      "source": [
        "### Calculate the mean, median, and the mode.\n",
        "### What do the values of these measures tell us about this distribution?\n",
        "print(\"mean \",df_dollars.mean().values[0])\n",
        "print(\"median\", df_dollars.median().values[0])\n",
        "print(\"mode\", df_dollars.mode().values[0])\n"
      ],
      "metadata": {
        "id": "cEhVY8o2zGkn",
        "colab": {
          "base_uri": "https://localhost:8080/"
        },
        "outputId": "171f6cbf-0614-41c1-c8ce-0fc59aaef6e3"
      },
      "execution_count": null,
      "outputs": [
        {
          "output_type": "stream",
          "name": "stdout",
          "text": [
            "mean  12.5\n",
            "median 12.0\n",
            "mode [12]\n"
          ]
        }
      ]
    },
    {
      "cell_type": "markdown",
      "source": [
        "**Conclusion for Question #2 :**"
      ],
      "metadata": {
        "id": "KIY79qyD8eiS"
      }
    },
    {
      "cell_type": "markdown",
      "source": [
        "Conclusion: The similarity in the mean, median and mode signals that the dataset is not skewed."
      ],
      "metadata": {
        "id": "5ECad4zYXs30"
      }
    },
    {
      "cell_type": "markdown",
      "source": [
        "## **Question #3 : Cars dataset**"
      ],
      "metadata": {
        "id": "FpGIROnXf1zc"
      }
    },
    {
      "cell_type": "markdown",
      "source": [
        "1. Calculate the average price of all SUV cars.\n",
        "2. Calculate the average price of SUV models from the Ford manufacturer.\n",
        "3. Calculate the average price of SUV models from all manufacturers except Ford.\n",
        "\n",
        "Compare the results of the above and share your findings.\n",
        "\n",
        "**Hint:** Task is to understand whether removing Ford from the main dataset influences the average price of the SUV models in general"
      ],
      "metadata": {
        "id": "SaeAvaCGL_t_"
      }
    },
    {
      "cell_type": "code",
      "source": [
        "cars.info()"
      ],
      "metadata": {
        "colab": {
          "base_uri": "https://localhost:8080/"
        },
        "id": "bekj4v9Bkt_y",
        "outputId": "27e9f910-636f-44df-d42c-c525f24eb47b"
      },
      "execution_count": null,
      "outputs": [
        {
          "output_type": "stream",
          "name": "stdout",
          "text": [
            "<class 'pandas.core.frame.DataFrame'>\n",
            "RangeIndex: 10000 entries, 0 to 9999\n",
            "Data columns (total 9 columns):\n",
            " #   Column    Non-Null Count  Dtype  \n",
            "---  ------    --------------  -----  \n",
            " 0   Make      10000 non-null  object \n",
            " 1   Model     10000 non-null  object \n",
            " 2   Year      10000 non-null  int64  \n",
            " 3   Variant   10000 non-null  object \n",
            " 4   Kms       10000 non-null  int64  \n",
            " 5   Price     10000 non-null  int64  \n",
            " 6   Doors     10000 non-null  float64\n",
            " 7   Kind      10000 non-null  object \n",
            " 8   Location  10000 non-null  object \n",
            "dtypes: float64(1), int64(3), object(5)\n",
            "memory usage: 703.3+ KB\n"
          ]
        }
      ]
    },
    {
      "cell_type": "code",
      "source": [
        "### Question 3.1 Calculate the average price of all SUV cars.\n",
        "\n",
        "suv_mean = cars.query(\"Kind == 'SUV'\")['Price'].mean().round()\n",
        "print(suv_mean)\n",
        "\n",
        "\n"
      ],
      "metadata": {
        "id": "V9a2YRpwcfCy",
        "colab": {
          "base_uri": "https://localhost:8080/"
        },
        "outputId": "c1a4f00b-cd2d-486b-dfe7-9bf8c4fa2b95"
      },
      "execution_count": null,
      "outputs": [
        {
          "output_type": "stream",
          "name": "stdout",
          "text": [
            "380708.0\n"
          ]
        }
      ]
    },
    {
      "cell_type": "code",
      "source": [
        "#Question 3.2 Calculate the average price of SUV models from the FORD manufacture\n",
        "suv = cars.query(\"Kind == 'SUV'\")\n",
        "ford_mean = suv.groupby(\"Make\")[\"Price\"].mean().round()[\"Ford\"]\n",
        "print(ford_mean)"
      ],
      "metadata": {
        "id": "goL13FQOY0b8",
        "colab": {
          "base_uri": "https://localhost:8080/"
        },
        "outputId": "e615fe37-ac46-4257-b3cc-6cb3106d8b9e"
      },
      "execution_count": null,
      "outputs": [
        {
          "output_type": "stream",
          "name": "stdout",
          "text": [
            "335166.0\n"
          ]
        }
      ]
    },
    {
      "cell_type": "code",
      "source": [
        "# Question 3.3 Calculate the average price of SUV models from all manufacturers except Ford.\n",
        "suv = cars.query(\"Kind == 'SUV'\")\n",
        "suv.loc[suv[\"Make\"] != \"Ford\",[\"Price\"]].mean().round()\n"
      ],
      "metadata": {
        "id": "BP-9eyQkP9iP",
        "colab": {
          "base_uri": "https://localhost:8080/",
          "height": 115
        },
        "outputId": "1cd68de5-cf74-4728-9c88-124af27a7742"
      },
      "execution_count": null,
      "outputs": [
        {
          "output_type": "execute_result",
          "data": {
            "text/plain": [
              "Price    545920.0\n",
              "dtype: float64"
            ],
            "text/html": [
              "<div>\n",
              "<style scoped>\n",
              "    .dataframe tbody tr th:only-of-type {\n",
              "        vertical-align: middle;\n",
              "    }\n",
              "\n",
              "    .dataframe tbody tr th {\n",
              "        vertical-align: top;\n",
              "    }\n",
              "\n",
              "    .dataframe thead th {\n",
              "        text-align: right;\n",
              "    }\n",
              "</style>\n",
              "<table border=\"1\" class=\"dataframe\">\n",
              "  <thead>\n",
              "    <tr style=\"text-align: right;\">\n",
              "      <th></th>\n",
              "      <th>0</th>\n",
              "    </tr>\n",
              "  </thead>\n",
              "  <tbody>\n",
              "    <tr>\n",
              "      <th>Price</th>\n",
              "      <td>545920.0</td>\n",
              "    </tr>\n",
              "  </tbody>\n",
              "</table>\n",
              "</div><br><label><b>dtype:</b> float64</label>"
            ]
          },
          "metadata": {},
          "execution_count": 51
        }
      ]
    },
    {
      "cell_type": "markdown",
      "source": [
        "**Conclusion for Question #3 :**"
      ],
      "metadata": {
        "id": "nj0mDYPES8jH"
      }
    },
    {
      "cell_type": "markdown",
      "source": [
        "Conclusion: Removing Ford does affect the average price because Ford is about 40% of the whole data set."
      ],
      "metadata": {
        "id": "Ftn2FYJAeS82"
      }
    },
    {
      "cell_type": "markdown",
      "source": [
        "## **Question #4 : Identify the price trend of the Hatchback model car in the cars dataset.**\n",
        "\n"
      ],
      "metadata": {
        "id": "cu0y0I893Vnc"
      }
    },
    {
      "cell_type": "markdown",
      "source": [
        "**Pseudocode:**\n",
        "\n",
        "1) Filter the dataframe to include only the Hatchback car model (use column \"Kind\").\n",
        "\n",
        "2) Calculate the mean and the median of the Price column based on this filtered dataset.\n",
        "\n",
        "\n",
        "3) Group by year and use different measures of central tendency on columns Price. (eg. mean, median)\n",
        "\n",
        "4) Create a barplot to see how the price of the Hatchback has evolved over the years."
      ],
      "metadata": {
        "id": "au1GWqsUfvbk"
      }
    },
    {
      "cell_type": "code",
      "source": [
        "### Question 4.1\n",
        "### Filter the dataframe to include only the Hatchback car model.\n",
        "hatch = cars.query(\"Kind == 'Hatchback'\")\n",
        "hatch\n",
        "\n"
      ],
      "metadata": {
        "id": "pQeUeQxsiiDD",
        "colab": {
          "base_uri": "https://localhost:8080/",
          "height": 423
        },
        "outputId": "0e10c36e-e6aa-4094-f4e9-5bb1c8d8e21a"
      },
      "execution_count": null,
      "outputs": [
        {
          "output_type": "execute_result",
          "data": {
            "text/plain": [
              "            Make                  Model  Year                    Variant  \\\n",
              "2     Volkswagen                    Fox  2011              1.6 Trendline   \n",
              "4     Volkswagen                    Gol  2013         1.4 Power 83cv 3 p   \n",
              "6           Ford                     Ka  2012         1.0 Fly Viral 63cv   \n",
              "7           Ford                     Ka  2012         1.6 Fly Viral 95cv   \n",
              "8           Ford              Focus III  2017                      1.6 S   \n",
              "...          ...                    ...   ...                        ...   \n",
              "9994        Ford              Focus III  2016                     2.0 Se   \n",
              "9995        Ford              Focus III  2016                     2.0 Se   \n",
              "9997        Ford  Fiesta Kinetic Design  2012  1.6 Design 120cv Titanium   \n",
              "9998        Ford  Fiesta Kinetic Design  2013  1.6 Design 120cv Titanium   \n",
              "9999        Ford              Focus III  2014           2.0 Titanium At6   \n",
              "\n",
              "         Kms   Price  Doors       Kind               Location  \n",
              "2     132000  209980    5.0  Hatchback      Bs.as. G.b.a. Sur  \n",
              "4     107000  146000    3.0  Hatchback                Córdoba  \n",
              "6      95243  142000    3.0  Hatchback      Bs.as. G.b.a. Sur  \n",
              "7     110000  148000    3.0  Hatchback  Buenos Aires Interior  \n",
              "8      17500  367000    5.0  Hatchback  Buenos Aires Interior  \n",
              "...      ...     ...    ...        ...                    ...  \n",
              "9994   18000  370000    5.0  Hatchback        Capital Federal  \n",
              "9995   67000  399000    5.0  Hatchback    Bs.as. G.b.a. Oeste  \n",
              "9997   89000  250000    5.0  Hatchback                Tucumán  \n",
              "9998   76000  295000    5.0  Hatchback  Buenos Aires Interior  \n",
              "9999   32000  380000    5.0  Hatchback      Bs.as. G.b.a. Sur  \n",
              "\n",
              "[4056 rows x 9 columns]"
            ],
            "text/html": [
              "\n",
              "  <div id=\"df-8c1f0d47-86f3-4fbe-89a0-291177f4b7b8\" class=\"colab-df-container\">\n",
              "    <div>\n",
              "<style scoped>\n",
              "    .dataframe tbody tr th:only-of-type {\n",
              "        vertical-align: middle;\n",
              "    }\n",
              "\n",
              "    .dataframe tbody tr th {\n",
              "        vertical-align: top;\n",
              "    }\n",
              "\n",
              "    .dataframe thead th {\n",
              "        text-align: right;\n",
              "    }\n",
              "</style>\n",
              "<table border=\"1\" class=\"dataframe\">\n",
              "  <thead>\n",
              "    <tr style=\"text-align: right;\">\n",
              "      <th></th>\n",
              "      <th>Make</th>\n",
              "      <th>Model</th>\n",
              "      <th>Year</th>\n",
              "      <th>Variant</th>\n",
              "      <th>Kms</th>\n",
              "      <th>Price</th>\n",
              "      <th>Doors</th>\n",
              "      <th>Kind</th>\n",
              "      <th>Location</th>\n",
              "    </tr>\n",
              "  </thead>\n",
              "  <tbody>\n",
              "    <tr>\n",
              "      <th>2</th>\n",
              "      <td>Volkswagen</td>\n",
              "      <td>Fox</td>\n",
              "      <td>2011</td>\n",
              "      <td>1.6 Trendline</td>\n",
              "      <td>132000</td>\n",
              "      <td>209980</td>\n",
              "      <td>5.0</td>\n",
              "      <td>Hatchback</td>\n",
              "      <td>Bs.as. G.b.a. Sur</td>\n",
              "    </tr>\n",
              "    <tr>\n",
              "      <th>4</th>\n",
              "      <td>Volkswagen</td>\n",
              "      <td>Gol</td>\n",
              "      <td>2013</td>\n",
              "      <td>1.4 Power 83cv 3 p</td>\n",
              "      <td>107000</td>\n",
              "      <td>146000</td>\n",
              "      <td>3.0</td>\n",
              "      <td>Hatchback</td>\n",
              "      <td>Córdoba</td>\n",
              "    </tr>\n",
              "    <tr>\n",
              "      <th>6</th>\n",
              "      <td>Ford</td>\n",
              "      <td>Ka</td>\n",
              "      <td>2012</td>\n",
              "      <td>1.0 Fly Viral 63cv</td>\n",
              "      <td>95243</td>\n",
              "      <td>142000</td>\n",
              "      <td>3.0</td>\n",
              "      <td>Hatchback</td>\n",
              "      <td>Bs.as. G.b.a. Sur</td>\n",
              "    </tr>\n",
              "    <tr>\n",
              "      <th>7</th>\n",
              "      <td>Ford</td>\n",
              "      <td>Ka</td>\n",
              "      <td>2012</td>\n",
              "      <td>1.6 Fly Viral 95cv</td>\n",
              "      <td>110000</td>\n",
              "      <td>148000</td>\n",
              "      <td>3.0</td>\n",
              "      <td>Hatchback</td>\n",
              "      <td>Buenos Aires Interior</td>\n",
              "    </tr>\n",
              "    <tr>\n",
              "      <th>8</th>\n",
              "      <td>Ford</td>\n",
              "      <td>Focus III</td>\n",
              "      <td>2017</td>\n",
              "      <td>1.6 S</td>\n",
              "      <td>17500</td>\n",
              "      <td>367000</td>\n",
              "      <td>5.0</td>\n",
              "      <td>Hatchback</td>\n",
              "      <td>Buenos Aires Interior</td>\n",
              "    </tr>\n",
              "    <tr>\n",
              "      <th>...</th>\n",
              "      <td>...</td>\n",
              "      <td>...</td>\n",
              "      <td>...</td>\n",
              "      <td>...</td>\n",
              "      <td>...</td>\n",
              "      <td>...</td>\n",
              "      <td>...</td>\n",
              "      <td>...</td>\n",
              "      <td>...</td>\n",
              "    </tr>\n",
              "    <tr>\n",
              "      <th>9994</th>\n",
              "      <td>Ford</td>\n",
              "      <td>Focus III</td>\n",
              "      <td>2016</td>\n",
              "      <td>2.0 Se</td>\n",
              "      <td>18000</td>\n",
              "      <td>370000</td>\n",
              "      <td>5.0</td>\n",
              "      <td>Hatchback</td>\n",
              "      <td>Capital Federal</td>\n",
              "    </tr>\n",
              "    <tr>\n",
              "      <th>9995</th>\n",
              "      <td>Ford</td>\n",
              "      <td>Focus III</td>\n",
              "      <td>2016</td>\n",
              "      <td>2.0 Se</td>\n",
              "      <td>67000</td>\n",
              "      <td>399000</td>\n",
              "      <td>5.0</td>\n",
              "      <td>Hatchback</td>\n",
              "      <td>Bs.as. G.b.a. Oeste</td>\n",
              "    </tr>\n",
              "    <tr>\n",
              "      <th>9997</th>\n",
              "      <td>Ford</td>\n",
              "      <td>Fiesta Kinetic Design</td>\n",
              "      <td>2012</td>\n",
              "      <td>1.6 Design 120cv Titanium</td>\n",
              "      <td>89000</td>\n",
              "      <td>250000</td>\n",
              "      <td>5.0</td>\n",
              "      <td>Hatchback</td>\n",
              "      <td>Tucumán</td>\n",
              "    </tr>\n",
              "    <tr>\n",
              "      <th>9998</th>\n",
              "      <td>Ford</td>\n",
              "      <td>Fiesta Kinetic Design</td>\n",
              "      <td>2013</td>\n",
              "      <td>1.6 Design 120cv Titanium</td>\n",
              "      <td>76000</td>\n",
              "      <td>295000</td>\n",
              "      <td>5.0</td>\n",
              "      <td>Hatchback</td>\n",
              "      <td>Buenos Aires Interior</td>\n",
              "    </tr>\n",
              "    <tr>\n",
              "      <th>9999</th>\n",
              "      <td>Ford</td>\n",
              "      <td>Focus III</td>\n",
              "      <td>2014</td>\n",
              "      <td>2.0 Titanium At6</td>\n",
              "      <td>32000</td>\n",
              "      <td>380000</td>\n",
              "      <td>5.0</td>\n",
              "      <td>Hatchback</td>\n",
              "      <td>Bs.as. G.b.a. Sur</td>\n",
              "    </tr>\n",
              "  </tbody>\n",
              "</table>\n",
              "<p>4056 rows × 9 columns</p>\n",
              "</div>\n",
              "    <div class=\"colab-df-buttons\">\n",
              "\n",
              "  <div class=\"colab-df-container\">\n",
              "    <button class=\"colab-df-convert\" onclick=\"convertToInteractive('df-8c1f0d47-86f3-4fbe-89a0-291177f4b7b8')\"\n",
              "            title=\"Convert this dataframe to an interactive table.\"\n",
              "            style=\"display:none;\">\n",
              "\n",
              "  <svg xmlns=\"http://www.w3.org/2000/svg\" height=\"24px\" viewBox=\"0 -960 960 960\">\n",
              "    <path d=\"M120-120v-720h720v720H120Zm60-500h600v-160H180v160Zm220 220h160v-160H400v160Zm0 220h160v-160H400v160ZM180-400h160v-160H180v160Zm440 0h160v-160H620v160ZM180-180h160v-160H180v160Zm440 0h160v-160H620v160Z\"/>\n",
              "  </svg>\n",
              "    </button>\n",
              "\n",
              "  <style>\n",
              "    .colab-df-container {\n",
              "      display:flex;\n",
              "      gap: 12px;\n",
              "    }\n",
              "\n",
              "    .colab-df-convert {\n",
              "      background-color: #E8F0FE;\n",
              "      border: none;\n",
              "      border-radius: 50%;\n",
              "      cursor: pointer;\n",
              "      display: none;\n",
              "      fill: #1967D2;\n",
              "      height: 32px;\n",
              "      padding: 0 0 0 0;\n",
              "      width: 32px;\n",
              "    }\n",
              "\n",
              "    .colab-df-convert:hover {\n",
              "      background-color: #E2EBFA;\n",
              "      box-shadow: 0px 1px 2px rgba(60, 64, 67, 0.3), 0px 1px 3px 1px rgba(60, 64, 67, 0.15);\n",
              "      fill: #174EA6;\n",
              "    }\n",
              "\n",
              "    .colab-df-buttons div {\n",
              "      margin-bottom: 4px;\n",
              "    }\n",
              "\n",
              "    [theme=dark] .colab-df-convert {\n",
              "      background-color: #3B4455;\n",
              "      fill: #D2E3FC;\n",
              "    }\n",
              "\n",
              "    [theme=dark] .colab-df-convert:hover {\n",
              "      background-color: #434B5C;\n",
              "      box-shadow: 0px 1px 3px 1px rgba(0, 0, 0, 0.15);\n",
              "      filter: drop-shadow(0px 1px 2px rgba(0, 0, 0, 0.3));\n",
              "      fill: #FFFFFF;\n",
              "    }\n",
              "  </style>\n",
              "\n",
              "    <script>\n",
              "      const buttonEl =\n",
              "        document.querySelector('#df-8c1f0d47-86f3-4fbe-89a0-291177f4b7b8 button.colab-df-convert');\n",
              "      buttonEl.style.display =\n",
              "        google.colab.kernel.accessAllowed ? 'block' : 'none';\n",
              "\n",
              "      async function convertToInteractive(key) {\n",
              "        const element = document.querySelector('#df-8c1f0d47-86f3-4fbe-89a0-291177f4b7b8');\n",
              "        const dataTable =\n",
              "          await google.colab.kernel.invokeFunction('convertToInteractive',\n",
              "                                                    [key], {});\n",
              "        if (!dataTable) return;\n",
              "\n",
              "        const docLinkHtml = 'Like what you see? Visit the ' +\n",
              "          '<a target=\"_blank\" href=https://colab.research.google.com/notebooks/data_table.ipynb>data table notebook</a>'\n",
              "          + ' to learn more about interactive tables.';\n",
              "        element.innerHTML = '';\n",
              "        dataTable['output_type'] = 'display_data';\n",
              "        await google.colab.output.renderOutput(dataTable, element);\n",
              "        const docLink = document.createElement('div');\n",
              "        docLink.innerHTML = docLinkHtml;\n",
              "        element.appendChild(docLink);\n",
              "      }\n",
              "    </script>\n",
              "  </div>\n",
              "\n",
              "\n",
              "<div id=\"df-277d11ec-3a1d-4554-9f3b-109fb9e435f8\">\n",
              "  <button class=\"colab-df-quickchart\" onclick=\"quickchart('df-277d11ec-3a1d-4554-9f3b-109fb9e435f8')\"\n",
              "            title=\"Suggest charts\"\n",
              "            style=\"display:none;\">\n",
              "\n",
              "<svg xmlns=\"http://www.w3.org/2000/svg\" height=\"24px\"viewBox=\"0 0 24 24\"\n",
              "     width=\"24px\">\n",
              "    <g>\n",
              "        <path d=\"M19 3H5c-1.1 0-2 .9-2 2v14c0 1.1.9 2 2 2h14c1.1 0 2-.9 2-2V5c0-1.1-.9-2-2-2zM9 17H7v-7h2v7zm4 0h-2V7h2v10zm4 0h-2v-4h2v4z\"/>\n",
              "    </g>\n",
              "</svg>\n",
              "  </button>\n",
              "\n",
              "<style>\n",
              "  .colab-df-quickchart {\n",
              "      --bg-color: #E8F0FE;\n",
              "      --fill-color: #1967D2;\n",
              "      --hover-bg-color: #E2EBFA;\n",
              "      --hover-fill-color: #174EA6;\n",
              "      --disabled-fill-color: #AAA;\n",
              "      --disabled-bg-color: #DDD;\n",
              "  }\n",
              "\n",
              "  [theme=dark] .colab-df-quickchart {\n",
              "      --bg-color: #3B4455;\n",
              "      --fill-color: #D2E3FC;\n",
              "      --hover-bg-color: #434B5C;\n",
              "      --hover-fill-color: #FFFFFF;\n",
              "      --disabled-bg-color: #3B4455;\n",
              "      --disabled-fill-color: #666;\n",
              "  }\n",
              "\n",
              "  .colab-df-quickchart {\n",
              "    background-color: var(--bg-color);\n",
              "    border: none;\n",
              "    border-radius: 50%;\n",
              "    cursor: pointer;\n",
              "    display: none;\n",
              "    fill: var(--fill-color);\n",
              "    height: 32px;\n",
              "    padding: 0;\n",
              "    width: 32px;\n",
              "  }\n",
              "\n",
              "  .colab-df-quickchart:hover {\n",
              "    background-color: var(--hover-bg-color);\n",
              "    box-shadow: 0 1px 2px rgba(60, 64, 67, 0.3), 0 1px 3px 1px rgba(60, 64, 67, 0.15);\n",
              "    fill: var(--button-hover-fill-color);\n",
              "  }\n",
              "\n",
              "  .colab-df-quickchart-complete:disabled,\n",
              "  .colab-df-quickchart-complete:disabled:hover {\n",
              "    background-color: var(--disabled-bg-color);\n",
              "    fill: var(--disabled-fill-color);\n",
              "    box-shadow: none;\n",
              "  }\n",
              "\n",
              "  .colab-df-spinner {\n",
              "    border: 2px solid var(--fill-color);\n",
              "    border-color: transparent;\n",
              "    border-bottom-color: var(--fill-color);\n",
              "    animation:\n",
              "      spin 1s steps(1) infinite;\n",
              "  }\n",
              "\n",
              "  @keyframes spin {\n",
              "    0% {\n",
              "      border-color: transparent;\n",
              "      border-bottom-color: var(--fill-color);\n",
              "      border-left-color: var(--fill-color);\n",
              "    }\n",
              "    20% {\n",
              "      border-color: transparent;\n",
              "      border-left-color: var(--fill-color);\n",
              "      border-top-color: var(--fill-color);\n",
              "    }\n",
              "    30% {\n",
              "      border-color: transparent;\n",
              "      border-left-color: var(--fill-color);\n",
              "      border-top-color: var(--fill-color);\n",
              "      border-right-color: var(--fill-color);\n",
              "    }\n",
              "    40% {\n",
              "      border-color: transparent;\n",
              "      border-right-color: var(--fill-color);\n",
              "      border-top-color: var(--fill-color);\n",
              "    }\n",
              "    60% {\n",
              "      border-color: transparent;\n",
              "      border-right-color: var(--fill-color);\n",
              "    }\n",
              "    80% {\n",
              "      border-color: transparent;\n",
              "      border-right-color: var(--fill-color);\n",
              "      border-bottom-color: var(--fill-color);\n",
              "    }\n",
              "    90% {\n",
              "      border-color: transparent;\n",
              "      border-bottom-color: var(--fill-color);\n",
              "    }\n",
              "  }\n",
              "</style>\n",
              "\n",
              "  <script>\n",
              "    async function quickchart(key) {\n",
              "      const quickchartButtonEl =\n",
              "        document.querySelector('#' + key + ' button');\n",
              "      quickchartButtonEl.disabled = true;  // To prevent multiple clicks.\n",
              "      quickchartButtonEl.classList.add('colab-df-spinner');\n",
              "      try {\n",
              "        const charts = await google.colab.kernel.invokeFunction(\n",
              "            'suggestCharts', [key], {});\n",
              "      } catch (error) {\n",
              "        console.error('Error during call to suggestCharts:', error);\n",
              "      }\n",
              "      quickchartButtonEl.classList.remove('colab-df-spinner');\n",
              "      quickchartButtonEl.classList.add('colab-df-quickchart-complete');\n",
              "    }\n",
              "    (() => {\n",
              "      let quickchartButtonEl =\n",
              "        document.querySelector('#df-277d11ec-3a1d-4554-9f3b-109fb9e435f8 button');\n",
              "      quickchartButtonEl.style.display =\n",
              "        google.colab.kernel.accessAllowed ? 'block' : 'none';\n",
              "    })();\n",
              "  </script>\n",
              "</div>\n",
              "\n",
              "  <div id=\"id_56f132ac-e4fb-433c-866f-f96ad00ca566\">\n",
              "    <style>\n",
              "      .colab-df-generate {\n",
              "        background-color: #E8F0FE;\n",
              "        border: none;\n",
              "        border-radius: 50%;\n",
              "        cursor: pointer;\n",
              "        display: none;\n",
              "        fill: #1967D2;\n",
              "        height: 32px;\n",
              "        padding: 0 0 0 0;\n",
              "        width: 32px;\n",
              "      }\n",
              "\n",
              "      .colab-df-generate:hover {\n",
              "        background-color: #E2EBFA;\n",
              "        box-shadow: 0px 1px 2px rgba(60, 64, 67, 0.3), 0px 1px 3px 1px rgba(60, 64, 67, 0.15);\n",
              "        fill: #174EA6;\n",
              "      }\n",
              "\n",
              "      [theme=dark] .colab-df-generate {\n",
              "        background-color: #3B4455;\n",
              "        fill: #D2E3FC;\n",
              "      }\n",
              "\n",
              "      [theme=dark] .colab-df-generate:hover {\n",
              "        background-color: #434B5C;\n",
              "        box-shadow: 0px 1px 3px 1px rgba(0, 0, 0, 0.15);\n",
              "        filter: drop-shadow(0px 1px 2px rgba(0, 0, 0, 0.3));\n",
              "        fill: #FFFFFF;\n",
              "      }\n",
              "    </style>\n",
              "    <button class=\"colab-df-generate\" onclick=\"generateWithVariable('hatch')\"\n",
              "            title=\"Generate code using this dataframe.\"\n",
              "            style=\"display:none;\">\n",
              "\n",
              "  <svg xmlns=\"http://www.w3.org/2000/svg\" height=\"24px\"viewBox=\"0 0 24 24\"\n",
              "       width=\"24px\">\n",
              "    <path d=\"M7,19H8.4L18.45,9,17,7.55,7,17.6ZM5,21V16.75L18.45,3.32a2,2,0,0,1,2.83,0l1.4,1.43a1.91,1.91,0,0,1,.58,1.4,1.91,1.91,0,0,1-.58,1.4L9.25,21ZM18.45,9,17,7.55Zm-12,3A5.31,5.31,0,0,0,4.9,8.1,5.31,5.31,0,0,0,1,6.5,5.31,5.31,0,0,0,4.9,4.9,5.31,5.31,0,0,0,6.5,1,5.31,5.31,0,0,0,8.1,4.9,5.31,5.31,0,0,0,12,6.5,5.46,5.46,0,0,0,6.5,12Z\"/>\n",
              "  </svg>\n",
              "    </button>\n",
              "    <script>\n",
              "      (() => {\n",
              "      const buttonEl =\n",
              "        document.querySelector('#id_56f132ac-e4fb-433c-866f-f96ad00ca566 button.colab-df-generate');\n",
              "      buttonEl.style.display =\n",
              "        google.colab.kernel.accessAllowed ? 'block' : 'none';\n",
              "\n",
              "      buttonEl.onclick = () => {\n",
              "        google.colab.notebook.generateWithVariable('hatch');\n",
              "      }\n",
              "      })();\n",
              "    </script>\n",
              "  </div>\n",
              "\n",
              "    </div>\n",
              "  </div>\n"
            ],
            "application/vnd.google.colaboratory.intrinsic+json": {
              "type": "dataframe",
              "variable_name": "hatch",
              "summary": "{\n  \"name\": \"hatch\",\n  \"rows\": 4056,\n  \"fields\": [\n    {\n      \"column\": \"Make\",\n      \"properties\": {\n        \"dtype\": \"category\",\n        \"num_unique_values\": 5,\n        \"samples\": [\n          \"Ford\",\n          \"Mercedes Benz\",\n          \"Honda\"\n        ],\n        \"semantic_type\": \"\",\n        \"description\": \"\"\n      }\n    },\n    {\n      \"column\": \"Model\",\n      \"properties\": {\n        \"dtype\": \"category\",\n        \"num_unique_values\": 18,\n        \"samples\": [\n          \"Fox\",\n          \"Gol\",\n          \"Fit\"\n        ],\n        \"semantic_type\": \"\",\n        \"description\": \"\"\n      }\n    },\n    {\n      \"column\": \"Year\",\n      \"properties\": {\n        \"dtype\": \"number\",\n        \"std\": 1,\n        \"min\": 2011,\n        \"max\": 2018,\n        \"num_unique_values\": 8,\n        \"samples\": [\n          2013,\n          2014,\n          2011\n        ],\n        \"semantic_type\": \"\",\n        \"description\": \"\"\n      }\n    },\n    {\n      \"column\": \"Variant\",\n      \"properties\": {\n        \"dtype\": \"category\",\n        \"num_unique_values\": 135,\n        \"samples\": [\n          \"1.6 S Pro.cre.auto\",\n          \"2.0 Trend Plus\",\n          \"1.4 One Tdci Ambiente\"\n        ],\n        \"semantic_type\": \"\",\n        \"description\": \"\"\n      }\n    },\n    {\n      \"column\": \"Kms\",\n      \"properties\": {\n        \"dtype\": \"number\",\n        \"std\": 30620,\n        \"min\": 5500,\n        \"max\": 159000,\n        \"num_unique_values\": 662,\n        \"samples\": [\n          119700,\n          9800,\n          81200\n        ],\n        \"semantic_type\": \"\",\n        \"description\": \"\"\n      }\n    },\n    {\n      \"column\": \"Price\",\n      \"properties\": {\n        \"dtype\": \"number\",\n        \"std\": 130273,\n        \"min\": 6300,\n        \"max\": 1170000,\n        \"num_unique_values\": 566,\n        \"samples\": [\n          175900,\n          276250,\n          161500\n        ],\n        \"semantic_type\": \"\",\n        \"description\": \"\"\n      }\n    },\n    {\n      \"column\": \"Doors\",\n      \"properties\": {\n        \"dtype\": \"number\",\n        \"std\": 0.8174021784983581,\n        \"min\": 3.0,\n        \"max\": 5.0,\n        \"num_unique_values\": 3,\n        \"samples\": [\n          5.0,\n          3.0,\n          4.0\n        ],\n        \"semantic_type\": \"\",\n        \"description\": \"\"\n      }\n    },\n    {\n      \"column\": \"Kind\",\n      \"properties\": {\n        \"dtype\": \"category\",\n        \"num_unique_values\": 1,\n        \"samples\": [\n          \"Hatchback\"\n        ],\n        \"semantic_type\": \"\",\n        \"description\": \"\"\n      }\n    },\n    {\n      \"column\": \"Location\",\n      \"properties\": {\n        \"dtype\": \"category\",\n        \"num_unique_values\": 28,\n        \"samples\": [\n          \"Corrientes\"\n        ],\n        \"semantic_type\": \"\",\n        \"description\": \"\"\n      }\n    }\n  ]\n}"
            }
          },
          "metadata": {},
          "execution_count": 52
        }
      ]
    },
    {
      "cell_type": "code",
      "source": [
        "### Question 4.2\n",
        "### Calculate the mean and the median across the dataset that contains only Hatchback cars\n",
        "### Use mean() and median()\n",
        "hatch = cars.query(\"Kind == 'Hatchback'\")[\"Price\"]\n",
        "hatch.agg([\"mean\",\"max\"]).round(2)\n"
      ],
      "metadata": {
        "id": "F-xyknDNiEwg",
        "colab": {
          "base_uri": "https://localhost:8080/",
          "height": 146
        },
        "outputId": "877884f9-71ee-4dd6-8176-fc01dbf3efe1"
      },
      "execution_count": null,
      "outputs": [
        {
          "output_type": "execute_result",
          "data": {
            "text/plain": [
              "mean     276554.83\n",
              "max     1170000.00\n",
              "Name: Price, dtype: float64"
            ],
            "text/html": [
              "<div>\n",
              "<style scoped>\n",
              "    .dataframe tbody tr th:only-of-type {\n",
              "        vertical-align: middle;\n",
              "    }\n",
              "\n",
              "    .dataframe tbody tr th {\n",
              "        vertical-align: top;\n",
              "    }\n",
              "\n",
              "    .dataframe thead th {\n",
              "        text-align: right;\n",
              "    }\n",
              "</style>\n",
              "<table border=\"1\" class=\"dataframe\">\n",
              "  <thead>\n",
              "    <tr style=\"text-align: right;\">\n",
              "      <th></th>\n",
              "      <th>Price</th>\n",
              "    </tr>\n",
              "  </thead>\n",
              "  <tbody>\n",
              "    <tr>\n",
              "      <th>mean</th>\n",
              "      <td>276554.83</td>\n",
              "    </tr>\n",
              "    <tr>\n",
              "      <th>max</th>\n",
              "      <td>1170000.00</td>\n",
              "    </tr>\n",
              "  </tbody>\n",
              "</table>\n",
              "</div><br><label><b>dtype:</b> float64</label>"
            ]
          },
          "metadata": {},
          "execution_count": 60
        }
      ]
    },
    {
      "cell_type": "code",
      "source": [
        "### Question 4.3\n",
        "### Use the different measures of central tendency to understand how the yearly price has evolved over years.\n",
        "### Group by year and use mean() and median() on the Price column.\n",
        "hatch = cars.query(\"Kind == 'Hatchback'\")[[\"Year\",\"Price\"]]\n",
        "hatch.groupby(\"Year\")[\"Price\"].agg([\"mean\",\"median\"]).round(2)"
      ],
      "metadata": {
        "id": "QJTo1oX9sZY-",
        "colab": {
          "base_uri": "https://localhost:8080/",
          "height": 331
        },
        "outputId": "76c55bf9-00a9-4318-f3be-738a2b316af3"
      },
      "execution_count": null,
      "outputs": [
        {
          "output_type": "execute_result",
          "data": {
            "text/plain": [
              "           mean    median\n",
              "Year                     \n",
              "2011  195320.51  190000.0\n",
              "2012  207276.11  195000.0\n",
              "2013  231396.88  220000.0\n",
              "2014  299797.16  290499.5\n",
              "2015  348179.24  340000.0\n",
              "2016  405378.73  375000.0\n",
              "2017  436084.48  390000.0\n",
              "2018  550299.57  485000.0"
            ],
            "text/html": [
              "\n",
              "  <div id=\"df-6e03cf1e-a04a-4a78-a10f-75164bf44635\" class=\"colab-df-container\">\n",
              "    <div>\n",
              "<style scoped>\n",
              "    .dataframe tbody tr th:only-of-type {\n",
              "        vertical-align: middle;\n",
              "    }\n",
              "\n",
              "    .dataframe tbody tr th {\n",
              "        vertical-align: top;\n",
              "    }\n",
              "\n",
              "    .dataframe thead th {\n",
              "        text-align: right;\n",
              "    }\n",
              "</style>\n",
              "<table border=\"1\" class=\"dataframe\">\n",
              "  <thead>\n",
              "    <tr style=\"text-align: right;\">\n",
              "      <th></th>\n",
              "      <th>mean</th>\n",
              "      <th>median</th>\n",
              "    </tr>\n",
              "    <tr>\n",
              "      <th>Year</th>\n",
              "      <th></th>\n",
              "      <th></th>\n",
              "    </tr>\n",
              "  </thead>\n",
              "  <tbody>\n",
              "    <tr>\n",
              "      <th>2011</th>\n",
              "      <td>195320.51</td>\n",
              "      <td>190000.0</td>\n",
              "    </tr>\n",
              "    <tr>\n",
              "      <th>2012</th>\n",
              "      <td>207276.11</td>\n",
              "      <td>195000.0</td>\n",
              "    </tr>\n",
              "    <tr>\n",
              "      <th>2013</th>\n",
              "      <td>231396.88</td>\n",
              "      <td>220000.0</td>\n",
              "    </tr>\n",
              "    <tr>\n",
              "      <th>2014</th>\n",
              "      <td>299797.16</td>\n",
              "      <td>290499.5</td>\n",
              "    </tr>\n",
              "    <tr>\n",
              "      <th>2015</th>\n",
              "      <td>348179.24</td>\n",
              "      <td>340000.0</td>\n",
              "    </tr>\n",
              "    <tr>\n",
              "      <th>2016</th>\n",
              "      <td>405378.73</td>\n",
              "      <td>375000.0</td>\n",
              "    </tr>\n",
              "    <tr>\n",
              "      <th>2017</th>\n",
              "      <td>436084.48</td>\n",
              "      <td>390000.0</td>\n",
              "    </tr>\n",
              "    <tr>\n",
              "      <th>2018</th>\n",
              "      <td>550299.57</td>\n",
              "      <td>485000.0</td>\n",
              "    </tr>\n",
              "  </tbody>\n",
              "</table>\n",
              "</div>\n",
              "    <div class=\"colab-df-buttons\">\n",
              "\n",
              "  <div class=\"colab-df-container\">\n",
              "    <button class=\"colab-df-convert\" onclick=\"convertToInteractive('df-6e03cf1e-a04a-4a78-a10f-75164bf44635')\"\n",
              "            title=\"Convert this dataframe to an interactive table.\"\n",
              "            style=\"display:none;\">\n",
              "\n",
              "  <svg xmlns=\"http://www.w3.org/2000/svg\" height=\"24px\" viewBox=\"0 -960 960 960\">\n",
              "    <path d=\"M120-120v-720h720v720H120Zm60-500h600v-160H180v160Zm220 220h160v-160H400v160Zm0 220h160v-160H400v160ZM180-400h160v-160H180v160Zm440 0h160v-160H620v160ZM180-180h160v-160H180v160Zm440 0h160v-160H620v160Z\"/>\n",
              "  </svg>\n",
              "    </button>\n",
              "\n",
              "  <style>\n",
              "    .colab-df-container {\n",
              "      display:flex;\n",
              "      gap: 12px;\n",
              "    }\n",
              "\n",
              "    .colab-df-convert {\n",
              "      background-color: #E8F0FE;\n",
              "      border: none;\n",
              "      border-radius: 50%;\n",
              "      cursor: pointer;\n",
              "      display: none;\n",
              "      fill: #1967D2;\n",
              "      height: 32px;\n",
              "      padding: 0 0 0 0;\n",
              "      width: 32px;\n",
              "    }\n",
              "\n",
              "    .colab-df-convert:hover {\n",
              "      background-color: #E2EBFA;\n",
              "      box-shadow: 0px 1px 2px rgba(60, 64, 67, 0.3), 0px 1px 3px 1px rgba(60, 64, 67, 0.15);\n",
              "      fill: #174EA6;\n",
              "    }\n",
              "\n",
              "    .colab-df-buttons div {\n",
              "      margin-bottom: 4px;\n",
              "    }\n",
              "\n",
              "    [theme=dark] .colab-df-convert {\n",
              "      background-color: #3B4455;\n",
              "      fill: #D2E3FC;\n",
              "    }\n",
              "\n",
              "    [theme=dark] .colab-df-convert:hover {\n",
              "      background-color: #434B5C;\n",
              "      box-shadow: 0px 1px 3px 1px rgba(0, 0, 0, 0.15);\n",
              "      filter: drop-shadow(0px 1px 2px rgba(0, 0, 0, 0.3));\n",
              "      fill: #FFFFFF;\n",
              "    }\n",
              "  </style>\n",
              "\n",
              "    <script>\n",
              "      const buttonEl =\n",
              "        document.querySelector('#df-6e03cf1e-a04a-4a78-a10f-75164bf44635 button.colab-df-convert');\n",
              "      buttonEl.style.display =\n",
              "        google.colab.kernel.accessAllowed ? 'block' : 'none';\n",
              "\n",
              "      async function convertToInteractive(key) {\n",
              "        const element = document.querySelector('#df-6e03cf1e-a04a-4a78-a10f-75164bf44635');\n",
              "        const dataTable =\n",
              "          await google.colab.kernel.invokeFunction('convertToInteractive',\n",
              "                                                    [key], {});\n",
              "        if (!dataTable) return;\n",
              "\n",
              "        const docLinkHtml = 'Like what you see? Visit the ' +\n",
              "          '<a target=\"_blank\" href=https://colab.research.google.com/notebooks/data_table.ipynb>data table notebook</a>'\n",
              "          + ' to learn more about interactive tables.';\n",
              "        element.innerHTML = '';\n",
              "        dataTable['output_type'] = 'display_data';\n",
              "        await google.colab.output.renderOutput(dataTable, element);\n",
              "        const docLink = document.createElement('div');\n",
              "        docLink.innerHTML = docLinkHtml;\n",
              "        element.appendChild(docLink);\n",
              "      }\n",
              "    </script>\n",
              "  </div>\n",
              "\n",
              "\n",
              "<div id=\"df-f8ab4354-ea2d-4186-9d45-e1a1b374b99a\">\n",
              "  <button class=\"colab-df-quickchart\" onclick=\"quickchart('df-f8ab4354-ea2d-4186-9d45-e1a1b374b99a')\"\n",
              "            title=\"Suggest charts\"\n",
              "            style=\"display:none;\">\n",
              "\n",
              "<svg xmlns=\"http://www.w3.org/2000/svg\" height=\"24px\"viewBox=\"0 0 24 24\"\n",
              "     width=\"24px\">\n",
              "    <g>\n",
              "        <path d=\"M19 3H5c-1.1 0-2 .9-2 2v14c0 1.1.9 2 2 2h14c1.1 0 2-.9 2-2V5c0-1.1-.9-2-2-2zM9 17H7v-7h2v7zm4 0h-2V7h2v10zm4 0h-2v-4h2v4z\"/>\n",
              "    </g>\n",
              "</svg>\n",
              "  </button>\n",
              "\n",
              "<style>\n",
              "  .colab-df-quickchart {\n",
              "      --bg-color: #E8F0FE;\n",
              "      --fill-color: #1967D2;\n",
              "      --hover-bg-color: #E2EBFA;\n",
              "      --hover-fill-color: #174EA6;\n",
              "      --disabled-fill-color: #AAA;\n",
              "      --disabled-bg-color: #DDD;\n",
              "  }\n",
              "\n",
              "  [theme=dark] .colab-df-quickchart {\n",
              "      --bg-color: #3B4455;\n",
              "      --fill-color: #D2E3FC;\n",
              "      --hover-bg-color: #434B5C;\n",
              "      --hover-fill-color: #FFFFFF;\n",
              "      --disabled-bg-color: #3B4455;\n",
              "      --disabled-fill-color: #666;\n",
              "  }\n",
              "\n",
              "  .colab-df-quickchart {\n",
              "    background-color: var(--bg-color);\n",
              "    border: none;\n",
              "    border-radius: 50%;\n",
              "    cursor: pointer;\n",
              "    display: none;\n",
              "    fill: var(--fill-color);\n",
              "    height: 32px;\n",
              "    padding: 0;\n",
              "    width: 32px;\n",
              "  }\n",
              "\n",
              "  .colab-df-quickchart:hover {\n",
              "    background-color: var(--hover-bg-color);\n",
              "    box-shadow: 0 1px 2px rgba(60, 64, 67, 0.3), 0 1px 3px 1px rgba(60, 64, 67, 0.15);\n",
              "    fill: var(--button-hover-fill-color);\n",
              "  }\n",
              "\n",
              "  .colab-df-quickchart-complete:disabled,\n",
              "  .colab-df-quickchart-complete:disabled:hover {\n",
              "    background-color: var(--disabled-bg-color);\n",
              "    fill: var(--disabled-fill-color);\n",
              "    box-shadow: none;\n",
              "  }\n",
              "\n",
              "  .colab-df-spinner {\n",
              "    border: 2px solid var(--fill-color);\n",
              "    border-color: transparent;\n",
              "    border-bottom-color: var(--fill-color);\n",
              "    animation:\n",
              "      spin 1s steps(1) infinite;\n",
              "  }\n",
              "\n",
              "  @keyframes spin {\n",
              "    0% {\n",
              "      border-color: transparent;\n",
              "      border-bottom-color: var(--fill-color);\n",
              "      border-left-color: var(--fill-color);\n",
              "    }\n",
              "    20% {\n",
              "      border-color: transparent;\n",
              "      border-left-color: var(--fill-color);\n",
              "      border-top-color: var(--fill-color);\n",
              "    }\n",
              "    30% {\n",
              "      border-color: transparent;\n",
              "      border-left-color: var(--fill-color);\n",
              "      border-top-color: var(--fill-color);\n",
              "      border-right-color: var(--fill-color);\n",
              "    }\n",
              "    40% {\n",
              "      border-color: transparent;\n",
              "      border-right-color: var(--fill-color);\n",
              "      border-top-color: var(--fill-color);\n",
              "    }\n",
              "    60% {\n",
              "      border-color: transparent;\n",
              "      border-right-color: var(--fill-color);\n",
              "    }\n",
              "    80% {\n",
              "      border-color: transparent;\n",
              "      border-right-color: var(--fill-color);\n",
              "      border-bottom-color: var(--fill-color);\n",
              "    }\n",
              "    90% {\n",
              "      border-color: transparent;\n",
              "      border-bottom-color: var(--fill-color);\n",
              "    }\n",
              "  }\n",
              "</style>\n",
              "\n",
              "  <script>\n",
              "    async function quickchart(key) {\n",
              "      const quickchartButtonEl =\n",
              "        document.querySelector('#' + key + ' button');\n",
              "      quickchartButtonEl.disabled = true;  // To prevent multiple clicks.\n",
              "      quickchartButtonEl.classList.add('colab-df-spinner');\n",
              "      try {\n",
              "        const charts = await google.colab.kernel.invokeFunction(\n",
              "            'suggestCharts', [key], {});\n",
              "      } catch (error) {\n",
              "        console.error('Error during call to suggestCharts:', error);\n",
              "      }\n",
              "      quickchartButtonEl.classList.remove('colab-df-spinner');\n",
              "      quickchartButtonEl.classList.add('colab-df-quickchart-complete');\n",
              "    }\n",
              "    (() => {\n",
              "      let quickchartButtonEl =\n",
              "        document.querySelector('#df-f8ab4354-ea2d-4186-9d45-e1a1b374b99a button');\n",
              "      quickchartButtonEl.style.display =\n",
              "        google.colab.kernel.accessAllowed ? 'block' : 'none';\n",
              "    })();\n",
              "  </script>\n",
              "</div>\n",
              "\n",
              "    </div>\n",
              "  </div>\n"
            ],
            "application/vnd.google.colaboratory.intrinsic+json": {
              "type": "dataframe",
              "summary": "{\n  \"name\": \"hatch\",\n  \"rows\": 8,\n  \"fields\": [\n    {\n      \"column\": \"Year\",\n      \"properties\": {\n        \"dtype\": \"number\",\n        \"std\": 2,\n        \"min\": 2011,\n        \"max\": 2018,\n        \"num_unique_values\": 8,\n        \"samples\": [\n          2012,\n          2016,\n          2011\n        ],\n        \"semantic_type\": \"\",\n        \"description\": \"\"\n      }\n    },\n    {\n      \"column\": \"mean\",\n      \"properties\": {\n        \"dtype\": \"number\",\n        \"std\": 125065.99597877466,\n        \"min\": 195320.51,\n        \"max\": 550299.57,\n        \"num_unique_values\": 8,\n        \"samples\": [\n          207276.11,\n          405378.73,\n          195320.51\n        ],\n        \"semantic_type\": \"\",\n        \"description\": \"\"\n      }\n    },\n    {\n      \"column\": \"median\",\n      \"properties\": {\n        \"dtype\": \"number\",\n        \"std\": 105729.7693838392,\n        \"min\": 190000.0,\n        \"max\": 485000.0,\n        \"num_unique_values\": 8,\n        \"samples\": [\n          195000.0,\n          375000.0,\n          190000.0\n        ],\n        \"semantic_type\": \"\",\n        \"description\": \"\"\n      }\n    }\n  ]\n}"
            }
          },
          "metadata": {},
          "execution_count": 85
        }
      ]
    },
    {
      "cell_type": "code",
      "source": [
        "### Question 4.3\n",
        "### Use a barplot to to show the trend in price.\n",
        "### Use plt.bar()\n",
        "hatch = cars.query(\"Kind == 'Hatchback'\")[[\"Year\",\"Price\"]]\n",
        "hatch.groupby(\"Year\")[\"Price\"].agg([\"mean\",\"median\"]).round(2).plot.bar()\n",
        "\n"
      ],
      "metadata": {
        "id": "p9K5JM1uw1CF",
        "colab": {
          "base_uri": "https://localhost:8080/",
          "height": 488
        },
        "outputId": "e3a4b698-f062-4175-c99c-6efbc74a3191"
      },
      "execution_count": null,
      "outputs": [
        {
          "output_type": "execute_result",
          "data": {
            "text/plain": [
              "<Axes: xlabel='Year'>"
            ]
          },
          "metadata": {},
          "execution_count": 86
        },
        {
          "output_type": "display_data",
          "data": {
            "text/plain": [
              "<Figure size 640x480 with 1 Axes>"
            ],
            "image/png": "[encoded data removed]"
          },
          "metadata": {}
        }
      ]
    },
    {
      "cell_type": "markdown",
      "source": [
        "**Conclusion for Question #4 :**"
      ],
      "metadata": {
        "id": "DT8mpJSwkaFB"
      }
    },
    {
      "cell_type": "markdown",
      "source": [
        "Conclusion: Prices for Hatchback cars have been on an increasing trend from 2011 to 2018"
      ],
      "metadata": {
        "id": "PpDh3rlS069G"
      }
    },
    {
      "cell_type": "markdown",
      "source": [
        "# **2. Measures of Spread**"
      ],
      "metadata": {
        "id": "T1akelTnX0LC"
      }
    },
    {
      "cell_type": "markdown",
      "source": [
        "## **Question #5 : Calculate the measure of spread for the below cases and write down your findings about how the data is spread.**\n",
        "\n",
        "1. We will use the dataframe df1 = [2, 41, 45, 14, 67, 7, 8, 9, 17].\n",
        "2. We will explore the price of the cars manufactured by Mercedes Benz before 2015.\n",
        "3. We will explore the mileage (Kms) on the cars of kind 'Sedán' and 'Pick-Up'.\n"
      ],
      "metadata": {
        "id": "RrWurJRgX6_T"
      }
    },
    {
      "cell_type": "code",
      "source": [
        "### Question 5.1:\n",
        "### Use this small dataset to calculate the range and the standard deviation.\n",
        "df1 = [2,41,45,14,67,7,8,9,17]\n",
        "\n",
        "\n",
        "\n"
      ],
      "metadata": {
        "id": "AX49Fn-7ZMW7",
        "colab": {
          "base_uri": "https://localhost:8080/",
          "height": 211
        },
        "outputId": "afbe0b9c-0e11-4fa1-b479-eb62e1311519"
      },
      "execution_count": null,
      "outputs": [
        {
          "output_type": "error",
          "ename": "NameError",
          "evalue": "name 'df' is not defined",
          "traceback": [
            "\u001b[0;31m---------------------------------------------------------------------------\u001b[0m",
            "\u001b[0;31mNameError\u001b[0m                                 Traceback (most recent call last)",
            "\u001b[0;32m<ipython-input-90-b7e56cc13610>\u001b[0m in \u001b[0;36m<cell line: 0>\u001b[0;34m()\u001b[0m\n\u001b[1;32m      2\u001b[0m \u001b[0;31m### Use this small dataset to calculate the range and the standard deviation.\u001b[0m\u001b[0;34m\u001b[0m\u001b[0;34m\u001b[0m\u001b[0m\n\u001b[1;32m      3\u001b[0m \u001b[0mdf1\u001b[0m \u001b[0;34m=\u001b[0m \u001b[0;34m[\u001b[0m\u001b[0;36m2\u001b[0m\u001b[0;34m,\u001b[0m\u001b[0;36m41\u001b[0m\u001b[0;34m,\u001b[0m\u001b[0;36m45\u001b[0m\u001b[0;34m,\u001b[0m\u001b[0;36m14\u001b[0m\u001b[0;34m,\u001b[0m\u001b[0;36m67\u001b[0m\u001b[0;34m,\u001b[0m\u001b[0;36m7\u001b[0m\u001b[0;34m,\u001b[0m\u001b[0;36m8\u001b[0m\u001b[0;34m,\u001b[0m\u001b[0;36m9\u001b[0m\u001b[0;34m,\u001b[0m\u001b[0;36m17\u001b[0m\u001b[0;34m]\u001b[0m\u001b[0;34m\u001b[0m\u001b[0;34m\u001b[0m\u001b[0m\n\u001b[0;32m----> 4\u001b[0;31m \u001b[0mprint\u001b[0m\u001b[0;34m(\u001b[0m\u001b[0mdf\u001b[0m\u001b[0;34m.\u001b[0m\u001b[0mmax\u001b[0m\u001b[0;34m(\u001b[0m\u001b[0;34m)\u001b[0m\u001b[0;34m-\u001b[0m\u001b[0mdf\u001b[0m\u001b[0;34m.\u001b[0m\u001b[0mmin\u001b[0m\u001b[0;34m(\u001b[0m\u001b[0;34m)\u001b[0m\u001b[0;34m)\u001b[0m\u001b[0;34m\u001b[0m\u001b[0;34m\u001b[0m\u001b[0m\n\u001b[0m\u001b[1;32m      5\u001b[0m \u001b[0;34m\u001b[0m\u001b[0m\n\u001b[1;32m      6\u001b[0m \u001b[0;34m\u001b[0m\u001b[0m\n",
            "\u001b[0;31mNameError\u001b[0m: name 'df' is not defined"
          ]
        }
      ]
    },
    {
      "cell_type": "code",
      "source": [
        "df1_range = max(df1) - min(df1)\n",
        "\n",
        "print(df1_range)\n",
        "print(st.stdev(df1))"
      ],
      "metadata": {
        "id": "LNxM9IPE_cVB",
        "colab": {
          "base_uri": "https://localhost:8080/"
        },
        "outputId": "e0df4196-821f-4626-a4dc-d415f2c6d5f7"
      },
      "execution_count": null,
      "outputs": [
        {
          "output_type": "stream",
          "name": "stdout",
          "text": [
            "65\n",
            "22.299103120977758\n"
          ]
        }
      ]
    },
    {
      "cell_type": "code",
      "source": [
        "### Question 5.2\n",
        "### Filter the cars dataframe for 'Mercedes Benz' car make that were produced before 2015.\n",
        "### Calculate the range and the standard deviation.\n"
      ],
      "metadata": {
        "id": "llt08BewAjeg"
      },
      "execution_count": null,
      "outputs": []
    },
    {
      "cell_type": "code",
      "source": [
        "### Question 5.3\n",
        "### Create two dataframes: one containing 'Sedán' cars and one containing 'Pick-Up' cars.\n",
        "### Calculate the range and the standard deviation of the mileage (Kms column) for each car type separately.\n",
        "### Compare the ranges and standard deviations of the two types of cars. Which one is higher?\n",
        "\n"
      ],
      "metadata": {
        "id": "nRUh8VSlmvs-"
      },
      "execution_count": null,
      "outputs": []
    },
    {
      "cell_type": "code",
      "source": [],
      "metadata": {
        "id": "D55ffBkLCarb"
      },
      "execution_count": null,
      "outputs": []
    },
    {
      "cell_type": "markdown",
      "source": [
        "**Concusion for Questions #5:**"
      ],
      "metadata": {
        "id": "vh9xYBnEZxAZ"
      }
    },
    {
      "cell_type": "markdown",
      "source": [
        "Write your conclusions here."
      ],
      "metadata": {
        "id": "tuBqrrVHGODG"
      }
    },
    {
      "cell_type": "markdown",
      "source": [
        "# **3. Correlation**\n",
        "\n"
      ],
      "metadata": {
        "id": "YXXre3A-GIIx"
      }
    },
    {
      "cell_type": "markdown",
      "source": [
        "## Question #6\n",
        "\n",
        "Think about the columns in the cars dataset. What numerical columns can be correlated with each other?\n",
        "\n",
        "Now check your assumptions using the formulas from the lecture, checking the correlation coefficients and plotting a heatmap.\n",
        "\n",
        "Share your analysis and conclusions.  \n",
        "\n",
        "\n",
        "\n",
        "\n"
      ],
      "metadata": {
        "id": "kgq5YQ0C2MWO"
      }
    },
    {
      "cell_type": "code",
      "source": [
        "### Decide for which columns in this dataset you would like to calculate the correlation coefficient.\n",
        "### Calculate the correlation coefficient by using .corr()\n",
        "### Example df[['A', 'B', 'C']].corr(), with A, B, and C being column names.\n",
        "### Save these coefficients in a dataframe called cars_corr.\n"
      ],
      "metadata": {
        "id": "-sxphXxhW-_H"
      },
      "execution_count": null,
      "outputs": []
    },
    {
      "cell_type": "code",
      "source": [
        "### Plot a heatmap based on the cars_cor datatframe you created above by using vizualization library Seaborn.\n",
        "### Make sure you save the dataframe with correlations as cars_cor, otherwise the code below won't work.\n",
        "\n",
        "sns.heatmap(data = cars_corr, annot = True, cmap = 'coolwarm')"
      ],
      "metadata": {
        "colab": {
          "base_uri": "https://localhost:8080/",
          "height": 453
        },
        "id": "ILpAn6RXoj2H",
        "outputId": "1d39b93d-815b-45cd-dced-ad8d0eb9d158"
      },
      "execution_count": null,
      "outputs": [
        {
          "output_type": "execute_result",
          "data": {
            "text/plain": [
              "<Axes: >"
            ]
          },
          "metadata": {},
          "execution_count": 161
        },
        {
          "output_type": "display_data",
          "data": {
            "text/plain": [
              "<Figure size 640x480 with 2 Axes>"
            ],
            "image/png": "[encoded data removed]"
          },
          "metadata": {}
        }
      ]
    },
    {
      "cell_type": "markdown",
      "source": [
        "**Conclusion for Question #6 :**"
      ],
      "metadata": {
        "id": "5F7TdF3--R8j"
      }
    },
    {
      "cell_type": "markdown",
      "source": [
        "Write your conclusions here.\n",
        "\n"
      ],
      "metadata": {
        "id": "zoiS-Q_RJVmP"
      }
    }
  ]
}