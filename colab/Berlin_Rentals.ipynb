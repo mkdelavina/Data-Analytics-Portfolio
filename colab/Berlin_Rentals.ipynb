{
  "nbformat": 4,
  "nbformat_minor": 0,
  "metadata": {
    "colab": {
      "provenance": [],
      "include_colab_link": true
    },
    "kernelspec": {
      "name": "python3",
      "display_name": "Python 3"
    }
  },
  "cells": [
    {
      "cell_type": "markdown",
      "metadata": {
        "id": "view-in-github",
        "colab_type": "text"
      },
      "source": [
        "<a href=\"https://colab.research.google.com/github/mkdelavina/Data-Analytics-Portfolio/blob/main/colab/Berlin_Rentals.ipynb\" target=\"_parent\"><img src=\"https://colab.research.google.com/assets/colab-badge.svg\" alt=\"Open In Colab\"/></a>"
      ]
    },
    {
      "cell_type": "markdown",
      "metadata": {
        "id": "zfY7LFjFlcZv"
      },
      "source": [
        "# Python Session #3: Data Summary / Satistics - Homework Assignment"
      ]
    },
    {
      "cell_type": "markdown",
      "source": [
        "\n",
        "## Lecture Structure:\n",
        "\n",
        "1. Measure of central tendency\n",
        "\n",
        "- Mean\n",
        "- Median\n",
        "- Mode\n",
        "\n",
        "2. Measure of spread\n",
        "\n",
        "- Range\n",
        "- Standard Deviation\n",
        "\n",
        "3. Correlation coeffcient\n",
        "\n",
        "## We will use:\n",
        "- `statistics.mean()`,\n",
        "`statistics.median()`,\n",
        "`statistics.mean()`,\n",
        "`groupby.mean()`,\n",
        "`groupby.median()`,\n",
        "`gmean()`,\n",
        "`statistics.stdev()`,\n",
        "`corr()`,\n",
        "`numpy.corrcoef()`"
      ],
      "metadata": {
        "id": "0_FNYSHmkCkK"
      }
    },
    {
      "cell_type": "code",
      "metadata": {
        "id": "jYijDuuObu_5"
      },
      "source": [
        "### Importing libraries and packages\n",
        "import pandas as pd\n",
        "import numpy as np\n",
        "import statistics as st\n",
        "import seaborn as sns\n",
        "import matplotlib.pyplot as plt"
      ],
      "execution_count": null,
      "outputs": []
    },
    {
      "cell_type": "code",
      "metadata": {
        "id": "mrtbg_VhjZcy"
      },
      "source": [
        "### Reading data\n",
        "\n",
        "rentals = pd.read_csv(\"https://raw.githubusercontent.com/juliandnl/redi_ss20/master/berlin_rental.csv\")"
      ],
      "execution_count": null,
      "outputs": []
    },
    {
      "cell_type": "markdown",
      "source": [
        "## **Question #1**\n",
        "\n",
        "Identify the best region to live, based on:\n",
        "\n",
        "1. Average Price\n",
        "\n",
        "2. Average Rooms Available\n",
        "\n",
        "3. Average Space\n",
        "\n",
        "4. What type of apartment condition is mostly available in Mitte, Kruezberg and Wilmersforf respectively?"
      ],
      "metadata": {
        "id": "i0PGXquo7Fp5"
      }
    },
    {
      "cell_type": "code",
      "source": [
        "### Identify the best region to live, based on: Average Price\n",
        "\n",
        "ave_price = rentals.groupby(\"Region\")[\"Rent\"].mean().sort_values(ascending=True).reset_index()\n",
        "print(ave_price.loc[0,\"Region\"], \"has the lowest average rent at \",round(ave_price.loc[0,\"Rent\"],2))"
      ],
      "metadata": {
        "id": "PXkI6rRl7BmC",
        "colab": {
          "base_uri": "https://localhost:8080/"
        },
        "outputId": "5aa99fca-2172-4257-87a0-d5d27e2c75e2"
      },
      "execution_count": null,
      "outputs": [
        {
          "output_type": "stream",
          "name": "stdout",
          "text": [
            "Wedding has the lowest average rent at  847.14\n"
          ]
        }
      ]
    },
    {
      "cell_type": "code",
      "source": [
        "### Identify the best region to live, based on: Average Rooms Available\n",
        "ave_room = rentals.groupby(\"Region\")[\"Rooms\"].mean().sort_values(ascending=False).reset_index().round(2)\n",
        "print(ave_room.loc[0,\"Region\"],\"has the highest ave. number of rooms at \",ave_room.loc[0,\"Rooms\"])"
      ],
      "metadata": {
        "id": "d4lOR_4b-iBp",
        "colab": {
          "base_uri": "https://localhost:8080/"
        },
        "outputId": "78792a5e-dd82-4c8d-ed1a-11175829168c"
      },
      "execution_count": null,
      "outputs": [
        {
          "output_type": "stream",
          "name": "stdout",
          "text": [
            "Mitte has the highest ave. number of rooms at  2.75\n"
          ]
        }
      ]
    },
    {
      "cell_type": "code",
      "source": [
        "### Identify the best region to live, based on: Average Space\n",
        "rentals\n",
        "ave_space = rentals.groupby(\"Region\")[\"Space\"].mean().sort_values(ascending=False).reset_index().round(2)\n",
        "ave_space\n",
        "print(ave_space.loc[0,\"Region\"],\"has the biggest ave. space at \",ave_space.loc[0,\"Space\"])\n",
        "\n"
      ],
      "metadata": {
        "id": "a0SONceOAbaT",
        "colab": {
          "base_uri": "https://localhost:8080/"
        },
        "outputId": "db5f24dc-f77f-4874-d488-7c8e855b48c8"
      },
      "execution_count": null,
      "outputs": [
        {
          "output_type": "stream",
          "name": "stdout",
          "text": [
            "Mitte has the biggest ave. space at  96.24\n"
          ]
        }
      ]
    },
    {
      "cell_type": "code",
      "source": [
        "# ## What type of apartment condition is mostly available in Mitte, Kruezberg\n",
        "# and Wedding respectively?\n",
        "mitte = rentals.loc[rentals[\"Region\"] == \"Mitte\",\"Condition\"].value_counts().sort_values(ascending=False).reset_index()\n",
        "kreuzberg = rentals.loc[rentals[\"Region\"] == \"Kreuzberg\",\"Condition\"].value_counts().sort_values(ascending=False).reset_index()\n",
        "wedding = rentals.loc[rentals[\"Region\"] == \"Wedding\",\"Condition\"].value_counts().sort_values(ascending=False).reset_index()\n",
        "\n",
        "print(\"The most common type of apartment in Mitte, Kreuzberg, and wedding are \")\n",
        "print(mitte.loc[0,\"Condition\"],\", \",kreuzberg.loc[0,\"Condition\"],\", \",wedding.loc[0,\"Condition\"],\" respectively.\")\n",
        "\n",
        "\n",
        "mitte\n",
        "\n"
      ],
      "metadata": {
        "id": "tcVrUdrVBajj",
        "colab": {
          "base_uri": "https://localhost:8080/",
          "height": 335
        },
        "outputId": "e4ca1a89-c316-4703-ad72-fd5d9a26f585"
      },
      "execution_count": null,
      "outputs": [
        {
          "output_type": "stream",
          "name": "stdout",
          "text": [
            "The most common type of apartment in Mitte, Kreuzberg, and wedding are \n",
            "mint_condition ,  mint_condition ,  mint_condition  respectively.\n"
          ]
        },
        {
          "output_type": "execute_result",
          "data": {
            "text/plain": [
              "                            Condition  count\n",
              "0                      mint_condition     49\n",
              "1                      first_time_use     43\n",
              "2                      no_information     29\n",
              "3                         refurbished     15\n",
              "4  first_time_use_after_refurbishment      7\n",
              "5                           well_kept      6\n",
              "6                     fully_renovated      3\n",
              "7                          modernized      1"
            ],
            "text/html": [
              "\n",
              "  <div id=\"df-f44ef04b-9d7d-4337-b60b-87c8ea12da82\" class=\"colab-df-container\">\n",
              "    <div>\n",
              "<style scoped>\n",
              "    .dataframe tbody tr th:only-of-type {\n",
              "        vertical-align: middle;\n",
              "    }\n",
              "\n",
              "    .dataframe tbody tr th {\n",
              "        vertical-align: top;\n",
              "    }\n",
              "\n",
              "    .dataframe thead th {\n",
              "        text-align: right;\n",
              "    }\n",
              "</style>\n",
              "<table border=\"1\" class=\"dataframe\">\n",
              "  <thead>\n",
              "    <tr style=\"text-align: right;\">\n",
              "      <th></th>\n",
              "      <th>Condition</th>\n",
              "      <th>count</th>\n",
              "    </tr>\n",
              "  </thead>\n",
              "  <tbody>\n",
              "    <tr>\n",
              "      <th>0</th>\n",
              "      <td>mint_condition</td>\n",
              "      <td>49</td>\n",
              "    </tr>\n",
              "    <tr>\n",
              "      <th>1</th>\n",
              "      <td>first_time_use</td>\n",
              "      <td>43</td>\n",
              "    </tr>\n",
              "    <tr>\n",
              "      <th>2</th>\n",
              "      <td>no_information</td>\n",
              "      <td>29</td>\n",
              "    </tr>\n",
              "    <tr>\n",
              "      <th>3</th>\n",
              "      <td>refurbished</td>\n",
              "      <td>15</td>\n",
              "    </tr>\n",
              "    <tr>\n",
              "      <th>4</th>\n",
              "      <td>first_time_use_after_refurbishment</td>\n",
              "      <td>7</td>\n",
              "    </tr>\n",
              "    <tr>\n",
              "      <th>5</th>\n",
              "      <td>well_kept</td>\n",
              "      <td>6</td>\n",
              "    </tr>\n",
              "    <tr>\n",
              "      <th>6</th>\n",
              "      <td>fully_renovated</td>\n",
              "      <td>3</td>\n",
              "    </tr>\n",
              "    <tr>\n",
              "      <th>7</th>\n",
              "      <td>modernized</td>\n",
              "      <td>1</td>\n",
              "    </tr>\n",
              "  </tbody>\n",
              "</table>\n",
              "</div>\n",
              "    <div class=\"colab-df-buttons\">\n",
              "\n",
              "  <div class=\"colab-df-container\">\n",
              "    <button class=\"colab-df-convert\" onclick=\"convertToInteractive('df-f44ef04b-9d7d-4337-b60b-87c8ea12da82')\"\n",
              "            title=\"Convert this dataframe to an interactive table.\"\n",
              "            style=\"display:none;\">\n",
              "\n",
              "  <svg xmlns=\"http://www.w3.org/2000/svg\" height=\"24px\" viewBox=\"0 -960 960 960\">\n",
              "    <path d=\"M120-120v-720h720v720H120Zm60-500h600v-160H180v160Zm220 220h160v-160H400v160Zm0 220h160v-160H400v160ZM180-400h160v-160H180v160Zm440 0h160v-160H620v160ZM180-180h160v-160H180v160Zm440 0h160v-160H620v160Z\"/>\n",
              "  </svg>\n",
              "    </button>\n",
              "\n",
              "  <style>\n",
              "    .colab-df-container {\n",
              "      display:flex;\n",
              "      gap: 12px;\n",
              "    }\n",
              "\n",
              "    .colab-df-convert {\n",
              "      background-color: #E8F0FE;\n",
              "      border: none;\n",
              "      border-radius: 50%;\n",
              "      cursor: pointer;\n",
              "      display: none;\n",
              "      fill: #1967D2;\n",
              "      height: 32px;\n",
              "      padding: 0 0 0 0;\n",
              "      width: 32px;\n",
              "    }\n",
              "\n",
              "    .colab-df-convert:hover {\n",
              "      background-color: #E2EBFA;\n",
              "      box-shadow: 0px 1px 2px rgba(60, 64, 67, 0.3), 0px 1px 3px 1px rgba(60, 64, 67, 0.15);\n",
              "      fill: #174EA6;\n",
              "    }\n",
              "\n",
              "    .colab-df-buttons div {\n",
              "      margin-bottom: 4px;\n",
              "    }\n",
              "\n",
              "    [theme=dark] .colab-df-convert {\n",
              "      background-color: #3B4455;\n",
              "      fill: #D2E3FC;\n",
              "    }\n",
              "\n",
              "    [theme=dark] .colab-df-convert:hover {\n",
              "      background-color: #434B5C;\n",
              "      box-shadow: 0px 1px 3px 1px rgba(0, 0, 0, 0.15);\n",
              "      filter: drop-shadow(0px 1px 2px rgba(0, 0, 0, 0.3));\n",
              "      fill: #FFFFFF;\n",
              "    }\n",
              "  </style>\n",
              "\n",
              "    <script>\n",
              "      const buttonEl =\n",
              "        document.querySelector('#df-f44ef04b-9d7d-4337-b60b-87c8ea12da82 button.colab-df-convert');\n",
              "      buttonEl.style.display =\n",
              "        google.colab.kernel.accessAllowed ? 'block' : 'none';\n",
              "\n",
              "      async function convertToInteractive(key) {\n",
              "        const element = document.querySelector('#df-f44ef04b-9d7d-4337-b60b-87c8ea12da82');\n",
              "        const dataTable =\n",
              "          await google.colab.kernel.invokeFunction('convertToInteractive',\n",
              "                                                    [key], {});\n",
              "        if (!dataTable) return;\n",
              "\n",
              "        const docLinkHtml = 'Like what you see? Visit the ' +\n",
              "          '<a target=\"_blank\" href=https://colab.research.google.com/notebooks/data_table.ipynb>data table notebook</a>'\n",
              "          + ' to learn more about interactive tables.';\n",
              "        element.innerHTML = '';\n",
              "        dataTable['output_type'] = 'display_data';\n",
              "        await google.colab.output.renderOutput(dataTable, element);\n",
              "        const docLink = document.createElement('div');\n",
              "        docLink.innerHTML = docLinkHtml;\n",
              "        element.appendChild(docLink);\n",
              "      }\n",
              "    </script>\n",
              "  </div>\n",
              "\n",
              "\n",
              "<div id=\"df-a34c56fe-572f-461d-8567-bdeb7c7267cf\">\n",
              "  <button class=\"colab-df-quickchart\" onclick=\"quickchart('df-a34c56fe-572f-461d-8567-bdeb7c7267cf')\"\n",
              "            title=\"Suggest charts\"\n",
              "            style=\"display:none;\">\n",
              "\n",
              "<svg xmlns=\"http://www.w3.org/2000/svg\" height=\"24px\"viewBox=\"0 0 24 24\"\n",
              "     width=\"24px\">\n",
              "    <g>\n",
              "        <path d=\"M19 3H5c-1.1 0-2 .9-2 2v14c0 1.1.9 2 2 2h14c1.1 0 2-.9 2-2V5c0-1.1-.9-2-2-2zM9 17H7v-7h2v7zm4 0h-2V7h2v10zm4 0h-2v-4h2v4z\"/>\n",
              "    </g>\n",
              "</svg>\n",
              "  </button>\n",
              "\n",
              "<style>\n",
              "  .colab-df-quickchart {\n",
              "      --bg-color: #E8F0FE;\n",
              "      --fill-color: #1967D2;\n",
              "      --hover-bg-color: #E2EBFA;\n",
              "      --hover-fill-color: #174EA6;\n",
              "      --disabled-fill-color: #AAA;\n",
              "      --disabled-bg-color: #DDD;\n",
              "  }\n",
              "\n",
              "  [theme=dark] .colab-df-quickchart {\n",
              "      --bg-color: #3B4455;\n",
              "      --fill-color: #D2E3FC;\n",
              "      --hover-bg-color: #434B5C;\n",
              "      --hover-fill-color: #FFFFFF;\n",
              "      --disabled-bg-color: #3B4455;\n",
              "      --disabled-fill-color: #666;\n",
              "  }\n",
              "\n",
              "  .colab-df-quickchart {\n",
              "    background-color: var(--bg-color);\n",
              "    border: none;\n",
              "    border-radius: 50%;\n",
              "    cursor: pointer;\n",
              "    display: none;\n",
              "    fill: var(--fill-color);\n",
              "    height: 32px;\n",
              "    padding: 0;\n",
              "    width: 32px;\n",
              "  }\n",
              "\n",
              "  .colab-df-quickchart:hover {\n",
              "    background-color: var(--hover-bg-color);\n",
              "    box-shadow: 0 1px 2px rgba(60, 64, 67, 0.3), 0 1px 3px 1px rgba(60, 64, 67, 0.15);\n",
              "    fill: var(--button-hover-fill-color);\n",
              "  }\n",
              "\n",
              "  .colab-df-quickchart-complete:disabled,\n",
              "  .colab-df-quickchart-complete:disabled:hover {\n",
              "    background-color: var(--disabled-bg-color);\n",
              "    fill: var(--disabled-fill-color);\n",
              "    box-shadow: none;\n",
              "  }\n",
              "\n",
              "  .colab-df-spinner {\n",
              "    border: 2px solid var(--fill-color);\n",
              "    border-color: transparent;\n",
              "    border-bottom-color: var(--fill-color);\n",
              "    animation:\n",
              "      spin 1s steps(1) infinite;\n",
              "  }\n",
              "\n",
              "  @keyframes spin {\n",
              "    0% {\n",
              "      border-color: transparent;\n",
              "      border-bottom-color: var(--fill-color);\n",
              "      border-left-color: var(--fill-color);\n",
              "    }\n",
              "    20% {\n",
              "      border-color: transparent;\n",
              "      border-left-color: var(--fill-color);\n",
              "      border-top-color: var(--fill-color);\n",
              "    }\n",
              "    30% {\n",
              "      border-color: transparent;\n",
              "      border-left-color: var(--fill-color);\n",
              "      border-top-color: var(--fill-color);\n",
              "      border-right-color: var(--fill-color);\n",
              "    }\n",
              "    40% {\n",
              "      border-color: transparent;\n",
              "      border-right-color: var(--fill-color);\n",
              "      border-top-color: var(--fill-color);\n",
              "    }\n",
              "    60% {\n",
              "      border-color: transparent;\n",
              "      border-right-color: var(--fill-color);\n",
              "    }\n",
              "    80% {\n",
              "      border-color: transparent;\n",
              "      border-right-color: var(--fill-color);\n",
              "      border-bottom-color: var(--fill-color);\n",
              "    }\n",
              "    90% {\n",
              "      border-color: transparent;\n",
              "      border-bottom-color: var(--fill-color);\n",
              "    }\n",
              "  }\n",
              "</style>\n",
              "\n",
              "  <script>\n",
              "    async function quickchart(key) {\n",
              "      const quickchartButtonEl =\n",
              "        document.querySelector('#' + key + ' button');\n",
              "      quickchartButtonEl.disabled = true;  // To prevent multiple clicks.\n",
              "      quickchartButtonEl.classList.add('colab-df-spinner');\n",
              "      try {\n",
              "        const charts = await google.colab.kernel.invokeFunction(\n",
              "            'suggestCharts', [key], {});\n",
              "      } catch (error) {\n",
              "        console.error('Error during call to suggestCharts:', error);\n",
              "      }\n",
              "      quickchartButtonEl.classList.remove('colab-df-spinner');\n",
              "      quickchartButtonEl.classList.add('colab-df-quickchart-complete');\n",
              "    }\n",
              "    (() => {\n",
              "      let quickchartButtonEl =\n",
              "        document.querySelector('#df-a34c56fe-572f-461d-8567-bdeb7c7267cf button');\n",
              "      quickchartButtonEl.style.display =\n",
              "        google.colab.kernel.accessAllowed ? 'block' : 'none';\n",
              "    })();\n",
              "  </script>\n",
              "</div>\n",
              "\n",
              "  <div id=\"id_b9a97eed-f174-473e-93d6-cee3479388bb\">\n",
              "    <style>\n",
              "      .colab-df-generate {\n",
              "        background-color: #E8F0FE;\n",
              "        border: none;\n",
              "        border-radius: 50%;\n",
              "        cursor: pointer;\n",
              "        display: none;\n",
              "        fill: #1967D2;\n",
              "        height: 32px;\n",
              "        padding: 0 0 0 0;\n",
              "        width: 32px;\n",
              "      }\n",
              "\n",
              "      .colab-df-generate:hover {\n",
              "        background-color: #E2EBFA;\n",
              "        box-shadow: 0px 1px 2px rgba(60, 64, 67, 0.3), 0px 1px 3px 1px rgba(60, 64, 67, 0.15);\n",
              "        fill: #174EA6;\n",
              "      }\n",
              "\n",
              "      [theme=dark] .colab-df-generate {\n",
              "        background-color: #3B4455;\n",
              "        fill: #D2E3FC;\n",
              "      }\n",
              "\n",
              "      [theme=dark] .colab-df-generate:hover {\n",
              "        background-color: #434B5C;\n",
              "        box-shadow: 0px 1px 3px 1px rgba(0, 0, 0, 0.15);\n",
              "        filter: drop-shadow(0px 1px 2px rgba(0, 0, 0, 0.3));\n",
              "        fill: #FFFFFF;\n",
              "      }\n",
              "    </style>\n",
              "    <button class=\"colab-df-generate\" onclick=\"generateWithVariable('mitte')\"\n",
              "            title=\"Generate code using this dataframe.\"\n",
              "            style=\"display:none;\">\n",
              "\n",
              "  <svg xmlns=\"http://www.w3.org/2000/svg\" height=\"24px\"viewBox=\"0 0 24 24\"\n",
              "       width=\"24px\">\n",
              "    <path d=\"M7,19H8.4L18.45,9,17,7.55,7,17.6ZM5,21V16.75L18.45,3.32a2,2,0,0,1,2.83,0l1.4,1.43a1.91,1.91,0,0,1,.58,1.4,1.91,1.91,0,0,1-.58,1.4L9.25,21ZM18.45,9,17,7.55Zm-12,3A5.31,5.31,0,0,0,4.9,8.1,5.31,5.31,0,0,0,1,6.5,5.31,5.31,0,0,0,4.9,4.9,5.31,5.31,0,0,0,6.5,1,5.31,5.31,0,0,0,8.1,4.9,5.31,5.31,0,0,0,12,6.5,5.46,5.46,0,0,0,6.5,12Z\"/>\n",
              "  </svg>\n",
              "    </button>\n",
              "    <script>\n",
              "      (() => {\n",
              "      const buttonEl =\n",
              "        document.querySelector('#id_b9a97eed-f174-473e-93d6-cee3479388bb button.colab-df-generate');\n",
              "      buttonEl.style.display =\n",
              "        google.colab.kernel.accessAllowed ? 'block' : 'none';\n",
              "\n",
              "      buttonEl.onclick = () => {\n",
              "        google.colab.notebook.generateWithVariable('mitte');\n",
              "      }\n",
              "      })();\n",
              "    </script>\n",
              "  </div>\n",
              "\n",
              "    </div>\n",
              "  </div>\n"
            ],
            "application/vnd.google.colaboratory.intrinsic+json": {
              "type": "dataframe",
              "variable_name": "mitte",
              "summary": "{\n  \"name\": \"mitte\",\n  \"rows\": 8,\n  \"fields\": [\n    {\n      \"column\": \"Condition\",\n      \"properties\": {\n        \"dtype\": \"string\",\n        \"num_unique_values\": 8,\n        \"samples\": [\n          \"first_time_use\",\n          \"well_kept\",\n          \"mint_condition\"\n        ],\n        \"semantic_type\": \"\",\n        \"description\": \"\"\n      }\n    },\n    {\n      \"column\": \"count\",\n      \"properties\": {\n        \"dtype\": \"number\",\n        \"std\": 18,\n        \"min\": 1,\n        \"max\": 49,\n        \"num_unique_values\": 8,\n        \"samples\": [\n          43,\n          6,\n          49\n        ],\n        \"semantic_type\": \"\",\n        \"description\": \"\"\n      }\n    }\n  ]\n}"
            }
          },
          "metadata": {},
          "execution_count": 3
        }
      ]
    },
    {
      "cell_type": "markdown",
      "source": [
        "## **Question #2**\n",
        "\n",
        "1. In what location are both the mean and median are same in terms of apartment Space?\n",
        "2. Identify the location where the apartment rent variation is the highest\n",
        "3. What is the average price of 2 room apartment in Mitte?"
      ],
      "metadata": {
        "id": "SaeAvaCGL_t_"
      }
    },
    {
      "cell_type": "code",
      "source": [
        "### In what location are both the mean and median are same in terms of apartment Space?\n",
        "rentals.groupby(\"Region\")[\"Space\"].agg([\"mean\",\"median\"]).round(0)\n"
      ],
      "metadata": {
        "id": "9mGR23bWHWYY",
        "colab": {
          "base_uri": "https://localhost:8080/",
          "height": 394
        },
        "outputId": "ddbd8f8e-d4c6-46ed-8f0f-a8abcd02b653"
      },
      "execution_count": null,
      "outputs": [
        {
          "output_type": "execute_result",
          "data": {
            "text/plain": [
              "                 mean  median\n",
              "Region                       \n",
              "Charlottenburg   88.0    81.0\n",
              "Friedrichsfelde  66.0    62.0\n",
              "Kreuzberg        92.0    86.0\n",
              "Köpenick         74.0    74.0\n",
              "Mitte            96.0    85.0\n",
              "Neukölln         70.0    66.0\n",
              "Prenzlauer       96.0    80.0\n",
              "Tiergarten       90.0    89.0\n",
              "Wedding          47.0    38.0\n",
              "Wilmersdorf      86.0    77.0"
            ],
            "text/html": [
              "\n",
              "  <div id=\"df-65c1359d-5687-453c-a986-7711a0a29787\" class=\"colab-df-container\">\n",
              "    <div>\n",
              "<style scoped>\n",
              "    .dataframe tbody tr th:only-of-type {\n",
              "        vertical-align: middle;\n",
              "    }\n",
              "\n",
              "    .dataframe tbody tr th {\n",
              "        vertical-align: top;\n",
              "    }\n",
              "\n",
              "    .dataframe thead th {\n",
              "        text-align: right;\n",
              "    }\n",
              "</style>\n",
              "<table border=\"1\" class=\"dataframe\">\n",
              "  <thead>\n",
              "    <tr style=\"text-align: right;\">\n",
              "      <th></th>\n",
              "      <th>mean</th>\n",
              "      <th>median</th>\n",
              "    </tr>\n",
              "    <tr>\n",
              "      <th>Region</th>\n",
              "      <th></th>\n",
              "      <th></th>\n",
              "    </tr>\n",
              "  </thead>\n",
              "  <tbody>\n",
              "    <tr>\n",
              "      <th>Charlottenburg</th>\n",
              "      <td>88.0</td>\n",
              "      <td>81.0</td>\n",
              "    </tr>\n",
              "    <tr>\n",
              "      <th>Friedrichsfelde</th>\n",
              "      <td>66.0</td>\n",
              "      <td>62.0</td>\n",
              "    </tr>\n",
              "    <tr>\n",
              "      <th>Kreuzberg</th>\n",
              "      <td>92.0</td>\n",
              "      <td>86.0</td>\n",
              "    </tr>\n",
              "    <tr>\n",
              "      <th>Köpenick</th>\n",
              "      <td>74.0</td>\n",
              "      <td>74.0</td>\n",
              "    </tr>\n",
              "    <tr>\n",
              "      <th>Mitte</th>\n",
              "      <td>96.0</td>\n",
              "      <td>85.0</td>\n",
              "    </tr>\n",
              "    <tr>\n",
              "      <th>Neukölln</th>\n",
              "      <td>70.0</td>\n",
              "      <td>66.0</td>\n",
              "    </tr>\n",
              "    <tr>\n",
              "      <th>Prenzlauer</th>\n",
              "      <td>96.0</td>\n",
              "      <td>80.0</td>\n",
              "    </tr>\n",
              "    <tr>\n",
              "      <th>Tiergarten</th>\n",
              "      <td>90.0</td>\n",
              "      <td>89.0</td>\n",
              "    </tr>\n",
              "    <tr>\n",
              "      <th>Wedding</th>\n",
              "      <td>47.0</td>\n",
              "      <td>38.0</td>\n",
              "    </tr>\n",
              "    <tr>\n",
              "      <th>Wilmersdorf</th>\n",
              "      <td>86.0</td>\n",
              "      <td>77.0</td>\n",
              "    </tr>\n",
              "  </tbody>\n",
              "</table>\n",
              "</div>\n",
              "    <div class=\"colab-df-buttons\">\n",
              "\n",
              "  <div class=\"colab-df-container\">\n",
              "    <button class=\"colab-df-convert\" onclick=\"convertToInteractive('df-65c1359d-5687-453c-a986-7711a0a29787')\"\n",
              "            title=\"Convert this dataframe to an interactive table.\"\n",
              "            style=\"display:none;\">\n",
              "\n",
              "  <svg xmlns=\"http://www.w3.org/2000/svg\" height=\"24px\" viewBox=\"0 -960 960 960\">\n",
              "    <path d=\"M120-120v-720h720v720H120Zm60-500h600v-160H180v160Zm220 220h160v-160H400v160Zm0 220h160v-160H400v160ZM180-400h160v-160H180v160Zm440 0h160v-160H620v160ZM180-180h160v-160H180v160Zm440 0h160v-160H620v160Z\"/>\n",
              "  </svg>\n",
              "    </button>\n",
              "\n",
              "  <style>\n",
              "    .colab-df-container {\n",
              "      display:flex;\n",
              "      gap: 12px;\n",
              "    }\n",
              "\n",
              "    .colab-df-convert {\n",
              "      background-color: #E8F0FE;\n",
              "      border: none;\n",
              "      border-radius: 50%;\n",
              "      cursor: pointer;\n",
              "      display: none;\n",
              "      fill: #1967D2;\n",
              "      height: 32px;\n",
              "      padding: 0 0 0 0;\n",
              "      width: 32px;\n",
              "    }\n",
              "\n",
              "    .colab-df-convert:hover {\n",
              "      background-color: #E2EBFA;\n",
              "      box-shadow: 0px 1px 2px rgba(60, 64, 67, 0.3), 0px 1px 3px 1px rgba(60, 64, 67, 0.15);\n",
              "      fill: #174EA6;\n",
              "    }\n",
              "\n",
              "    .colab-df-buttons div {\n",
              "      margin-bottom: 4px;\n",
              "    }\n",
              "\n",
              "    [theme=dark] .colab-df-convert {\n",
              "      background-color: #3B4455;\n",
              "      fill: #D2E3FC;\n",
              "    }\n",
              "\n",
              "    [theme=dark] .colab-df-convert:hover {\n",
              "      background-color: #434B5C;\n",
              "      box-shadow: 0px 1px 3px 1px rgba(0, 0, 0, 0.15);\n",
              "      filter: drop-shadow(0px 1px 2px rgba(0, 0, 0, 0.3));\n",
              "      fill: #FFFFFF;\n",
              "    }\n",
              "  </style>\n",
              "\n",
              "    <script>\n",
              "      const buttonEl =\n",
              "        document.querySelector('#df-65c1359d-5687-453c-a986-7711a0a29787 button.colab-df-convert');\n",
              "      buttonEl.style.display =\n",
              "        google.colab.kernel.accessAllowed ? 'block' : 'none';\n",
              "\n",
              "      async function convertToInteractive(key) {\n",
              "        const element = document.querySelector('#df-65c1359d-5687-453c-a986-7711a0a29787');\n",
              "        const dataTable =\n",
              "          await google.colab.kernel.invokeFunction('convertToInteractive',\n",
              "                                                    [key], {});\n",
              "        if (!dataTable) return;\n",
              "\n",
              "        const docLinkHtml = 'Like what you see? Visit the ' +\n",
              "          '<a target=\"_blank\" href=https://colab.research.google.com/notebooks/data_table.ipynb>data table notebook</a>'\n",
              "          + ' to learn more about interactive tables.';\n",
              "        element.innerHTML = '';\n",
              "        dataTable['output_type'] = 'display_data';\n",
              "        await google.colab.output.renderOutput(dataTable, element);\n",
              "        const docLink = document.createElement('div');\n",
              "        docLink.innerHTML = docLinkHtml;\n",
              "        element.appendChild(docLink);\n",
              "      }\n",
              "    </script>\n",
              "  </div>\n",
              "\n",
              "\n",
              "<div id=\"df-6f3aa3fd-2ced-432c-a07b-4eb3b0819198\">\n",
              "  <button class=\"colab-df-quickchart\" onclick=\"quickchart('df-6f3aa3fd-2ced-432c-a07b-4eb3b0819198')\"\n",
              "            title=\"Suggest charts\"\n",
              "            style=\"display:none;\">\n",
              "\n",
              "<svg xmlns=\"http://www.w3.org/2000/svg\" height=\"24px\"viewBox=\"0 0 24 24\"\n",
              "     width=\"24px\">\n",
              "    <g>\n",
              "        <path d=\"M19 3H5c-1.1 0-2 .9-2 2v14c0 1.1.9 2 2 2h14c1.1 0 2-.9 2-2V5c0-1.1-.9-2-2-2zM9 17H7v-7h2v7zm4 0h-2V7h2v10zm4 0h-2v-4h2v4z\"/>\n",
              "    </g>\n",
              "</svg>\n",
              "  </button>\n",
              "\n",
              "<style>\n",
              "  .colab-df-quickchart {\n",
              "      --bg-color: #E8F0FE;\n",
              "      --fill-color: #1967D2;\n",
              "      --hover-bg-color: #E2EBFA;\n",
              "      --hover-fill-color: #174EA6;\n",
              "      --disabled-fill-color: #AAA;\n",
              "      --disabled-bg-color: #DDD;\n",
              "  }\n",
              "\n",
              "  [theme=dark] .colab-df-quickchart {\n",
              "      --bg-color: #3B4455;\n",
              "      --fill-color: #D2E3FC;\n",
              "      --hover-bg-color: #434B5C;\n",
              "      --hover-fill-color: #FFFFFF;\n",
              "      --disabled-bg-color: #3B4455;\n",
              "      --disabled-fill-color: #666;\n",
              "  }\n",
              "\n",
              "  .colab-df-quickchart {\n",
              "    background-color: var(--bg-color);\n",
              "    border: none;\n",
              "    border-radius: 50%;\n",
              "    cursor: pointer;\n",
              "    display: none;\n",
              "    fill: var(--fill-color);\n",
              "    height: 32px;\n",
              "    padding: 0;\n",
              "    width: 32px;\n",
              "  }\n",
              "\n",
              "  .colab-df-quickchart:hover {\n",
              "    background-color: var(--hover-bg-color);\n",
              "    box-shadow: 0 1px 2px rgba(60, 64, 67, 0.3), 0 1px 3px 1px rgba(60, 64, 67, 0.15);\n",
              "    fill: var(--button-hover-fill-color);\n",
              "  }\n",
              "\n",
              "  .colab-df-quickchart-complete:disabled,\n",
              "  .colab-df-quickchart-complete:disabled:hover {\n",
              "    background-color: var(--disabled-bg-color);\n",
              "    fill: var(--disabled-fill-color);\n",
              "    box-shadow: none;\n",
              "  }\n",
              "\n",
              "  .colab-df-spinner {\n",
              "    border: 2px solid var(--fill-color);\n",
              "    border-color: transparent;\n",
              "    border-bottom-color: var(--fill-color);\n",
              "    animation:\n",
              "      spin 1s steps(1) infinite;\n",
              "  }\n",
              "\n",
              "  @keyframes spin {\n",
              "    0% {\n",
              "      border-color: transparent;\n",
              "      border-bottom-color: var(--fill-color);\n",
              "      border-left-color: var(--fill-color);\n",
              "    }\n",
              "    20% {\n",
              "      border-color: transparent;\n",
              "      border-left-color: var(--fill-color);\n",
              "      border-top-color: var(--fill-color);\n",
              "    }\n",
              "    30% {\n",
              "      border-color: transparent;\n",
              "      border-left-color: var(--fill-color);\n",
              "      border-top-color: var(--fill-color);\n",
              "      border-right-color: var(--fill-color);\n",
              "    }\n",
              "    40% {\n",
              "      border-color: transparent;\n",
              "      border-right-color: var(--fill-color);\n",
              "      border-top-color: var(--fill-color);\n",
              "    }\n",
              "    60% {\n",
              "      border-color: transparent;\n",
              "      border-right-color: var(--fill-color);\n",
              "    }\n",
              "    80% {\n",
              "      border-color: transparent;\n",
              "      border-right-color: var(--fill-color);\n",
              "      border-bottom-color: var(--fill-color);\n",
              "    }\n",
              "    90% {\n",
              "      border-color: transparent;\n",
              "      border-bottom-color: var(--fill-color);\n",
              "    }\n",
              "  }\n",
              "</style>\n",
              "\n",
              "  <script>\n",
              "    async function quickchart(key) {\n",
              "      const quickchartButtonEl =\n",
              "        document.querySelector('#' + key + ' button');\n",
              "      quickchartButtonEl.disabled = true;  // To prevent multiple clicks.\n",
              "      quickchartButtonEl.classList.add('colab-df-spinner');\n",
              "      try {\n",
              "        const charts = await google.colab.kernel.invokeFunction(\n",
              "            'suggestCharts', [key], {});\n",
              "      } catch (error) {\n",
              "        console.error('Error during call to suggestCharts:', error);\n",
              "      }\n",
              "      quickchartButtonEl.classList.remove('colab-df-spinner');\n",
              "      quickchartButtonEl.classList.add('colab-df-quickchart-complete');\n",
              "    }\n",
              "    (() => {\n",
              "      let quickchartButtonEl =\n",
              "        document.querySelector('#df-6f3aa3fd-2ced-432c-a07b-4eb3b0819198 button');\n",
              "      quickchartButtonEl.style.display =\n",
              "        google.colab.kernel.accessAllowed ? 'block' : 'none';\n",
              "    })();\n",
              "  </script>\n",
              "</div>\n",
              "\n",
              "    </div>\n",
              "  </div>\n"
            ],
            "application/vnd.google.colaboratory.intrinsic+json": {
              "type": "dataframe",
              "summary": "{\n  \"name\": \"rentals\",\n  \"rows\": 10,\n  \"fields\": [\n    {\n      \"column\": \"Region\",\n      \"properties\": {\n        \"dtype\": \"string\",\n        \"num_unique_values\": 10,\n        \"samples\": [\n          \"Wedding\",\n          \"Friedrichsfelde\",\n          \"Neuk\\u00f6lln\"\n        ],\n        \"semantic_type\": \"\",\n        \"description\": \"\"\n      }\n    },\n    {\n      \"column\": \"mean\",\n      \"properties\": {\n        \"dtype\": \"number\",\n        \"std\": 15.89723945288056,\n        \"min\": 47.0,\n        \"max\": 96.0,\n        \"num_unique_values\": 9,\n        \"samples\": [\n          47.0,\n          66.0,\n          70.0\n        ],\n        \"semantic_type\": \"\",\n        \"description\": \"\"\n      }\n    },\n    {\n      \"column\": \"median\",\n      \"properties\": {\n        \"dtype\": \"number\",\n        \"std\": 15.230087181482435,\n        \"min\": 38.0,\n        \"max\": 89.0,\n        \"num_unique_values\": 10,\n        \"samples\": [\n          38.0,\n          62.0,\n          66.0\n        ],\n        \"semantic_type\": \"\",\n        \"description\": \"\"\n      }\n    }\n  ]\n}"
            }
          },
          "metadata": {},
          "execution_count": 46
        }
      ]
    },
    {
      "cell_type": "markdown",
      "source": [
        "The region where the mean and median are the same,in terms of space, is Köpenick."
      ],
      "metadata": {
        "id": "RMPtFrvECjmw"
      }
    },
    {
      "cell_type": "code",
      "source": [
        "### Identify the location where the apartment rent variation is very the highest\n",
        "rent_std = rentals.groupby(\"Region\")[\"Rent\"].std().sort_values(ascending=False).reset_index()\n",
        "print(\"The region with the highest variation in rent is \",rent_std.loc[0,\"Region\"])\n"
      ],
      "metadata": {
        "id": "d_ZmL5dBHxFx",
        "colab": {
          "base_uri": "https://localhost:8080/"
        },
        "outputId": "7382564b-9173-42eb-faca-7ced5e93eb79"
      },
      "execution_count": null,
      "outputs": [
        {
          "output_type": "stream",
          "name": "stdout",
          "text": [
            "The region with the highest variation in rent is  Mitte\n"
          ]
        }
      ]
    },
    {
      "cell_type": "code",
      "source": [
        "### What is the average price of 2 room apartment in Mitte?\n",
        "mitte_ave = rentals.loc[(rentals[\"Rooms\"] == 2) & (rentals[\"Region\"] == \"Mitte\"),[\"Rent\"]].mean()\n",
        "print(\"The average price of a 2-room apartment in Mitte is \",round(mitte_ave))"
      ],
      "metadata": {
        "id": "7yYaVCsRIQ4t",
        "colab": {
          "base_uri": "https://localhost:8080/"
        },
        "outputId": "0c76e258-dca4-40bf-ec3f-ab22cf549071"
      },
      "execution_count": null,
      "outputs": [
        {
          "output_type": "stream",
          "name": "stdout",
          "text": [
            "The average price of a 2-room apartment in Mitte is  Rent    1806.0\n",
            "dtype: float64\n"
          ]
        }
      ]
    },
    {
      "cell_type": "markdown",
      "source": [
        "## **Question #3**\n",
        "\n",
        "Identify an outlier from the rentals dataset. Statistically show the difference in central tendency with and without those outliers.\n",
        "\n"
      ],
      "metadata": {
        "id": "au1GWqsUfvbk"
      }
    },
    {
      "cell_type": "markdown",
      "source": [
        "**Hint**\n",
        "\n",
        "Identify the outliers visually with a plot."
      ],
      "metadata": {
        "id": "_NKlrOpHKRPM"
      }
    },
    {
      "cell_type": "code",
      "source": [
        "#Answer\n",
        "\n",
        "#Rent prices\n",
        "rentals[\"Rent\"].hist(bins=50)\n",
        "#excluding apartments with rents higher than 8000\n",
        "rent_cleaned = rentals.loc[rentals[\"Rent\"] <= 8000,\"Rent\"]\n",
        "print(\"Rent mean with outlier: \",round(rentals[\"Rent\"].mean(),2),\" without: \",round(rent_cleaned.mean(),2))\n",
        "print(\"Rent median with outlier: \",round(rentals[\"Rent\"].median(),2), \" without: \", round(rent_cleaned.median(),2))\n",
        "print(\"Rent mode with outlier: \",rentals[\"Rent\"].mode()[1],\" without: \",rent_cleaned.mode()[1])\n",
        "\n"
      ],
      "metadata": {
        "id": "pQeUeQxsiiDD",
        "colab": {
          "base_uri": "https://localhost:8080/",
          "height": 482
        },
        "outputId": "3a49e461-43cb-4a3c-bcaa-a65432656174"
      },
      "execution_count": null,
      "outputs": [
        {
          "output_type": "stream",
          "name": "stdout",
          "text": [
            "Rent mean with outlier:  1768.56  without:  1741.73\n",
            "Rent median with outlier:  1565.48  without:  1565.2\n",
            "Rent mode with outlier:  1650.0  without:  1650.0\n"
          ]
        },
        {
          "output_type": "display_data",
          "data": {
            "text/plain": [
              "<Figure size 640x480 with 1 Axes>"
            ],
            "image/png": "[encoded data removed]"
          },
          "metadata": {}
        }
      ]
    },
    {
      "cell_type": "code",
      "source": [
        "#Rent prices\n",
        "rentals[\"Space\"].hist(bins=100)\n",
        "#excluding apartments with space bigger than 250\n",
        "space_cleaned = rentals.loc[rentals[\"Space\"] <= 250,\"Space\"]\n",
        "print(\"Space mean with outlier: \",round(rentals[\"Space\"].mean(),2),\" without: \",round(space_cleaned.mean(),2))\n",
        "print(\"Space median with outlier: \",round(rentals[\"Space\"].median(),2), \" without: \", round(space_cleaned.median(),2))\n",
        "print(\"Space mode with outlier: \",rentals[\"Space\"].mode()[1],\" without: \",space_cleaned.mode()[1])"
      ],
      "metadata": {
        "colab": {
          "base_uri": "https://localhost:8080/",
          "height": 482
        },
        "id": "GuqaFttHRd0L",
        "outputId": "324ad607-c67c-4659-9730-cdf6641e2dcb"
      },
      "execution_count": null,
      "outputs": [
        {
          "output_type": "stream",
          "name": "stdout",
          "text": [
            "Space mean with outlier:  84.66  without:  83.11\n",
            "Space median with outlier:  77.6  without:  77.0\n",
            "Space mode with outlier:  60.0  without:  60.0\n"
          ]
        },
        {
          "output_type": "display_data",
          "data": {
            "text/plain": [
              "<Figure size 640x480 with 1 Axes>"
            ],
            "image/png": "[encoded data removed]"
          },
          "metadata": {}
        }
      ]
    },
    {
      "cell_type": "markdown",
      "source": [
        "**Conclusion**: For both Rent and Space\n",
        "*   The mean became lower after removing the outliers or the values that are way too high compared to the rest.\n",
        "*  The median also got lower by a little bit.\n",
        "*  The mode is not affected as they are the most common values.  \n",
        "\n"
      ],
      "metadata": {
        "id": "gSlyuARdSpp_"
      }
    },
    {
      "cell_type": "markdown",
      "metadata": {
        "id": "MJdkMmVDBj_D"
      },
      "source": [
        "## **EXTRA MATERIAL**"
      ]
    },
    {
      "cell_type": "markdown",
      "metadata": {
        "id": "Q0HdDyPIANBY"
      },
      "source": [
        "**Using groupby with different functions for different columns**\n",
        "\n",
        "The `.agg()` method also allows you to apply different functions to different columns. It's done by using a dictionary where the columns selected are the keys, and the functions you want to apply to each columns are the values. There is no need to select the columns before applying `.agg()` in this case, as the columns are selected inside the dictionary."
      ]
    },
    {
      "cell_type": "markdown",
      "metadata": {
        "id": "akGU0y1A_VsW"
      },
      "source": [
        "**Useful aggregation functions:**\n",
        "- `mean()`\n",
        "- `median()`\n",
        "- `var()`\n",
        "- `std()`\n",
        "- `min()`\n",
        "- `max()`\n",
        "- `count()`\n",
        "- `sum()`\n",
        "- `nunique()`"
      ]
    },
    {
      "cell_type": "markdown",
      "metadata": {
        "id": "OZY8d3lrmip3"
      },
      "source": [
        "**Bonus question #1:**"
      ]
    },
    {
      "cell_type": "markdown",
      "metadata": {
        "id": "na6fCqDImupY"
      },
      "source": [
        "Revisit the `describe()` method from session #1. Study the output of the describe method, draw a simple barplot or any visual diagram for the dataset and check your understanding about the dataset."
      ]
    },
    {
      "cell_type": "code",
      "metadata": {
        "id": "YO-omnj_nuxz",
        "colab": {
          "base_uri": "https://localhost:8080/",
          "height": 517
        },
        "outputId": "133d1212-7108-4e43-f16f-538f9ce38d99"
      },
      "source": [
        "### Bonus question #1:\n",
        "\n",
        "rentals[\"Rent\"].hist(bins=50)\n",
        "\n",
        "#sorting the values in ascending order\n",
        "r = rentals[\"Rent\"].sort_values(ascending=True).reset_index(0)\n",
        "\n",
        "#finding the rows at the 25%, 50% and 75% marks\n",
        "percentile25 = round(len(r)/4)\n",
        "percentile50 = 2*round(len(r)/4)\n",
        "percentile75 = 3*round(len(r)/4)\n",
        "\n",
        "print(\"25%: \",r.loc[percentile25,\"Rent\"])\n",
        "print(\"55%: \",r.loc[percentile50,\"Rent\"])\n",
        "print(\"75%: \",r.loc[percentile75,\"Rent\"])\n",
        "rentals.describe()\n",
        "print(\"The percentiles show under which value a certain portion of the dataset falls under\")\n",
        "print(\"Ex: The 25th percentile for rent means 25% of the appartments cost 1040 or lower.\")\n",
        "\n"
      ],
      "execution_count": null,
      "outputs": [
        {
          "output_type": "stream",
          "name": "stdout",
          "text": [
            "25%:  1040.0\n",
            "55%:  1565.56\n",
            "75%:  2170.0\n",
            "The percentiles show under which value a certain portion of the dataset falls under\n",
            "Ex: The 25th percentile for rent means 25% of the appartments cost 1040 or lower.\n"
          ]
        },
        {
          "output_type": "display_data",
          "data": {
            "text/plain": [
              "<Figure size 640x480 with 1 Axes>"
            ],
            "image/png": "[encoded data removed]"
          },
          "metadata": {}
        }
      ]
    },
    {
      "cell_type": "markdown",
      "metadata": {
        "id": "wVfFJAOVqD5o"
      },
      "source": [
        "**Bonus question #2:**\n",
        "\n",
        "Below mentioned are the points for 2 teams who participated in a Premiere league football batch. When a team wins a match, they get **3** points, if they lose the match then they get **0** points and if the match is draw then they get **1** point.\n",
        "\n",
        "Study the data and share your understanding, mainly\n",
        "\n",
        "According to you, Which team has performed better, why?\n",
        "\n",
        "Team A : { 3,1,3,1,3,1,0,1,0,1,0,0,1,3,3,1,1,3,1,0 }\n",
        "\n",
        "Team B : { 3,1,3,1,3,0,0,0,0,0,0,0,1,3,3,1,1,3,1,3 }"
      ]
    },
    {
      "cell_type": "code",
      "metadata": {
        "id": "VpiAjHyvqQBb",
        "colab": {
          "base_uri": "https://localhost:8080/"
        },
        "outputId": "be5412a2-c6db-4878-9c36-9e62000d739c"
      },
      "source": [
        "### Bonus question #2:\n",
        "team_a = pd.DataFrame([3,1,3,1,3,1,0,1,0,1,0,0,1,3,3,1,1,3,1,0],columns=[\"Score\"])\n",
        "team_b = pd.DataFrame([3,1,3,1,3,0,0,0,0,0,0,0,1,3,3,1,1,3,1,3],columns=[\"Score\"])\n",
        "\n",
        "#calculating the win/draft games over total games\n",
        "team_a_wins_percent = len(team_a[team_a[\"Score\"] > 0])/len(team_a)*100\n",
        "team_b_wins_percent = len(team_b[team_b[\"Score\"] > 0])/len(team_b)*100\n",
        "\n",
        "print(\"In my opinion, Team A performed better becuase \", team_a_wins_percent,\"% of their total games ended in a win or draw\")\n",
        "print(\"while it is only \",team_b_wins_percent,\"% for team B\")"
      ],
      "execution_count": null,
      "outputs": [
        {
          "output_type": "stream",
          "name": "stdout",
          "text": [
            "In my opinion, Team A performed better becuase  75.0 % of their total games ended in a win or draw\n",
            "while it is only  65.0 % for team B\n"
          ]
        }
      ]
    },
    {
      "cell_type": "markdown",
      "source": [],
      "metadata": {
        "id": "UT0FNpVEAVk0"
      }
    },
    {
      "cell_type": "markdown",
      "source": [
        "**Bonus question #3**\n",
        "\n",
        "Dependent vs independent variables - do you how to identify them? You can read about them here, or go straight to the task below:\n",
        "https://www.statology.org/independent-vs-dependent-variables/\n",
        "\n",
        "For the rentals dataset, identify:\n",
        "- dependent variable\n",
        "- indpendent variable(s)\n",
        "\n",
        "Statistically prove their relation, use the help of visual diagram whenever necessary."
      ],
      "metadata": {
        "id": "l4bg7UoK4ilV"
      }
    },
    {
      "cell_type": "code",
      "source": [
        "### Bonus question #3:\n",
        "\n",
        "rentals_corr = rentals[[\"Rent\",\"Space\",\"Rooms\",\"Year_Construction\"]].corr()\n",
        "sns.heatmap(data = rentals_corr, annot = True, cmap = 'coolwarm')"
      ],
      "metadata": {
        "id": "QVr_Bn8H5H6U",
        "colab": {
          "base_uri": "https://localhost:8080/",
          "height": 452
        },
        "outputId": "bf667914-aafb-4bf2-9792-8a1ae0b03c29"
      },
      "execution_count": null,
      "outputs": [
        {
          "output_type": "execute_result",
          "data": {
            "text/plain": [
              "<Axes: >"
            ]
          },
          "metadata": {},
          "execution_count": 53
        },
        {
          "output_type": "display_data",
          "data": {
            "text/plain": [
              "<Figure size 640x480 with 2 Axes>"
            ],
            "image/png": "[encoded data removed]"
          },
          "metadata": {}
        }
      ]
    },
    {
      "cell_type": "markdown",
      "source": [
        "**Conclusion**\n",
        "Based on the above correlation heatmap, there is very high correlation between space and rent price. There is medium correlation between the number of room and price. Year of construction has low correlation with rent price.\n",
        "\n",
        "The dependent variable is the rental price and the independent variables are the apartment space and number of rooms."
      ],
      "metadata": {
        "id": "W72a4ZP9Hap5"
      }
    },
    {
      "cell_type": "markdown",
      "source": [],
      "metadata": {
        "id": "78mSU_q9Hahd"
      }
    }
  ]
}